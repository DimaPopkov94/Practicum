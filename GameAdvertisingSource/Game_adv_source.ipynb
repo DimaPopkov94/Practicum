{
 "cells": [
  {
   "cell_type": "markdown",
   "metadata": {},
   "source": [
    "# Игры — Анализ рекламных источников"
   ]
  },
  {
   "cell_type": "markdown",
   "metadata": {},
   "source": [
    "## Цель \n",
    "Выяснить, через какие источники приходять самые активные пользователи"
   ]
  },
  {
   "cell_type": "markdown",
   "metadata": {},
   "source": [
    "<h3>Шаг 1. <a href='#session1'>Изучение данных и приведение данных в порядок</a></h3>\n",
    "<h4>Шаг 1.1<a href='#session1.1'>Обработка пропусков</a></h4>\n",
    "<h4> Шаг 1.2 <a href='#session1.2'>Обработка дубликатов</a></h4>\n",
    "<h4> Шаг 1.3 <a href='#session1.3'>Приведение типов данных</a></h4>\n",
    "<h3>Шаг 2.<a href='#session2'> Зависимость поведения от источника перехода</a></h3>\n",
    "<h4> Шаг 2.1<a href='#session2.1'> Изучить распределение типов событий **event** по источникам **source**</a></h4>\n",
    "<h4> Шаг 2.2 <a href='#session2.2'>Изучить распределение типов зданий **building_type** по источникам **source**</a></h4>\n",
    "<h4> Шаг 2.3 <a href='#session2.3'>Доля пользователей, совершивших хотя бы одно событие **event** (с учетом **source**)</a></h4>\n",
    "<h4> Шаг 2.4 <a href='#session2.4'>Конверсия источников трафика</a></h4>\n",
    "<h4> Шаг 2.5 <a href='#session2.5'>Распределение типов зданий по пользователям, которые выполнили **project**</a></h4>\n",
    "<h4> Шаг 2.6 <a href='#session2.6'>Распределение типов зданий по пользователям, которые выполнили победили врага</a></h4>\n",
    "<h3> Шаг 3. <a href='#session3'>Проверка гипотез</a></h3>\n",
    "<h4> Шаг 3.1 <a href='#session3.1'>Время завершения уровня различается в зависимости от способа прохождения</a></h4>\n",
    "<h4> Шаг 3.2 <a href='#session3.2'>Время завершения уровня различается в зависимости от источника перехода</a></h4>\n",
    "<h3> Шаг 4. <a href='#session4'>Посчитаем медианную стоимость кликов каналов</a></h3>\n",
    "<h3> Шаг 5. <a href='#session5'>Вывод</a></h3>"
   ]
  },
  {
   "cell_type": "code",
   "execution_count": 14,
   "metadata": {},
   "outputs": [],
   "source": [
    "import pandas as pd\n",
    "import numpy as np\n",
    "import matplotlib.pyplot as plt\n",
    "import seaborn as sns\n",
    "import scipy.stats as stats\n",
    "import warnings\n",
    "warnings.filterwarnings(\"ignore\")"
   ]
  },
  {
   "cell_type": "markdown",
   "metadata": {},
   "source": [
    "<a id='session1'><a/>\n",
    "### Шаг 1. Изучение данных и приведение данных в порядок"
   ]
  },
  {
   "cell_type": "code",
   "execution_count": 15,
   "metadata": {},
   "outputs": [],
   "source": [
    "#game_actions = pd.read_csv('/datasets/game_actions.csv')\n",
    "#user_source = pd.read_csv('/datasets/user_source.csv')\n",
    "#ad_cost = pd.read_csv('/datasets/ad_costs.csv')"
   ]
  },
  {
   "cell_type": "code",
   "execution_count": 16,
   "metadata": {},
   "outputs": [],
   "source": [
    "game_actions = pd.read_csv(r'C:\\Users\\user2\\Desktop\\Финал_проект\\проет\\game_actions.csv')\n",
    "user_source = pd.read_csv(r'C:\\Users\\user2\\Desktop\\Финал_проект\\проет\\user_source.csv')\n",
    "ad_cost = pd.read_csv(r'C:\\Users\\user2\\Desktop\\Финал_проект\\проет\\ad_costs.csv')"
   ]
  },
  {
   "cell_type": "code",
   "execution_count": 17,
   "metadata": {},
   "outputs": [
    {
     "name": "stdout",
     "output_type": "stream",
     "text": [
      "<class 'pandas.core.frame.DataFrame'>\n",
      "RangeIndex: 135640 entries, 0 to 135639\n",
      "Data columns (total 5 columns):\n",
      " #   Column          Non-Null Count   Dtype \n",
      "---  ------          --------------   ----- \n",
      " 0   event_datetime  135640 non-null  object\n",
      " 1   event           135640 non-null  object\n",
      " 2   building_type   127957 non-null  object\n",
      " 3   user_id         135640 non-null  object\n",
      " 4   project_type    1866 non-null    object\n",
      "dtypes: object(5)\n",
      "memory usage: 5.2+ MB\n"
     ]
    }
   ],
   "source": [
    "game_actions.info()"
   ]
  },
  {
   "cell_type": "code",
   "execution_count": 18,
   "metadata": {},
   "outputs": [
    {
     "name": "stdout",
     "output_type": "stream",
     "text": [
      "<class 'pandas.core.frame.DataFrame'>\n",
      "RangeIndex: 13576 entries, 0 to 13575\n",
      "Data columns (total 2 columns):\n",
      " #   Column   Non-Null Count  Dtype \n",
      "---  ------   --------------  ----- \n",
      " 0   user_id  13576 non-null  object\n",
      " 1   source   13576 non-null  object\n",
      "dtypes: object(2)\n",
      "memory usage: 212.2+ KB\n"
     ]
    }
   ],
   "source": [
    "user_source.info()"
   ]
  },
  {
   "cell_type": "code",
   "execution_count": 19,
   "metadata": {},
   "outputs": [
    {
     "name": "stdout",
     "output_type": "stream",
     "text": [
      "<class 'pandas.core.frame.DataFrame'>\n",
      "RangeIndex: 28 entries, 0 to 27\n",
      "Data columns (total 3 columns):\n",
      " #   Column  Non-Null Count  Dtype  \n",
      "---  ------  --------------  -----  \n",
      " 0   source  28 non-null     object \n",
      " 1   day     28 non-null     object \n",
      " 2   cost    28 non-null     float64\n",
      "dtypes: float64(1), object(2)\n",
      "memory usage: 800.0+ bytes\n"
     ]
    }
   ],
   "source": [
    "ad_cost.info()"
   ]
  },
  {
   "cell_type": "markdown",
   "metadata": {},
   "source": [
    "<a id='session1.1'></a>\n",
    "#### Обработка пропусков"
   ]
  },
  {
   "cell_type": "markdown",
   "metadata": {},
   "source": [
    "В game_actions.building_type пропуски обусловлены тем, что пользователь не строил зданий.  \n",
    "В game_actions.project_type пропуски обусловлены тем, что пользователь не выполнял проект.  \n",
    "Удалять пропуски не нужно."
   ]
  },
  {
   "cell_type": "markdown",
   "metadata": {},
   "source": [
    "<a id='session1.2'></a>\n",
    "#### Обработка дубликатов"
   ]
  },
  {
   "cell_type": "code",
   "execution_count": 20,
   "metadata": {},
   "outputs": [
    {
     "data": {
      "text/plain": [
       "1"
      ]
     },
     "execution_count": 20,
     "metadata": {},
     "output_type": "execute_result"
    }
   ],
   "source": [
    "game_actions.duplicated().sum()"
   ]
  },
  {
   "cell_type": "code",
   "execution_count": 21,
   "metadata": {},
   "outputs": [
    {
     "data": {
      "text/html": [
       "<div>\n",
       "<style scoped>\n",
       "    .dataframe tbody tr th:only-of-type {\n",
       "        vertical-align: middle;\n",
       "    }\n",
       "\n",
       "    .dataframe tbody tr th {\n",
       "        vertical-align: top;\n",
       "    }\n",
       "\n",
       "    .dataframe thead th {\n",
       "        text-align: right;\n",
       "    }\n",
       "</style>\n",
       "<table border=\"1\" class=\"dataframe\">\n",
       "  <thead>\n",
       "    <tr style=\"text-align: right;\">\n",
       "      <th></th>\n",
       "      <th>event_datetime</th>\n",
       "      <th>event</th>\n",
       "      <th>building_type</th>\n",
       "      <th>user_id</th>\n",
       "      <th>project_type</th>\n",
       "    </tr>\n",
       "  </thead>\n",
       "  <tbody>\n",
       "    <tr>\n",
       "      <th>74890</th>\n",
       "      <td>2020-05-10 18:41:56</td>\n",
       "      <td>building</td>\n",
       "      <td>research_center</td>\n",
       "      <td>c9af55d2-b0ae-4bb4-b3d5-f32aa9ac03af</td>\n",
       "      <td>NaN</td>\n",
       "    </tr>\n",
       "    <tr>\n",
       "      <th>74891</th>\n",
       "      <td>2020-05-10 18:41:56</td>\n",
       "      <td>building</td>\n",
       "      <td>research_center</td>\n",
       "      <td>c9af55d2-b0ae-4bb4-b3d5-f32aa9ac03af</td>\n",
       "      <td>NaN</td>\n",
       "    </tr>\n",
       "  </tbody>\n",
       "</table>\n",
       "</div>"
      ],
      "text/plain": [
       "            event_datetime     event    building_type  \\\n",
       "74890  2020-05-10 18:41:56  building  research_center   \n",
       "74891  2020-05-10 18:41:56  building  research_center   \n",
       "\n",
       "                                    user_id project_type  \n",
       "74890  c9af55d2-b0ae-4bb4-b3d5-f32aa9ac03af          NaN  \n",
       "74891  c9af55d2-b0ae-4bb4-b3d5-f32aa9ac03af          NaN  "
      ]
     },
     "execution_count": 21,
     "metadata": {},
     "output_type": "execute_result"
    }
   ],
   "source": [
    "game_actions[game_actions.duplicated(keep = False)].sort_values(by = game_actions.columns.tolist())"
   ]
  },
  {
   "cell_type": "code",
   "execution_count": 22,
   "metadata": {},
   "outputs": [],
   "source": [
    "# Удалим дубликат\n",
    "game_actions.drop_duplicates(inplace=True)"
   ]
  },
  {
   "cell_type": "code",
   "execution_count": 23,
   "metadata": {},
   "outputs": [
    {
     "data": {
      "text/plain": [
       "0"
      ]
     },
     "execution_count": 23,
     "metadata": {},
     "output_type": "execute_result"
    }
   ],
   "source": [
    "user_source.duplicated().sum()"
   ]
  },
  {
   "cell_type": "code",
   "execution_count": 24,
   "metadata": {},
   "outputs": [
    {
     "data": {
      "text/plain": [
       "0"
      ]
     },
     "execution_count": 24,
     "metadata": {},
     "output_type": "execute_result"
    }
   ],
   "source": [
    "ad_cost.duplicated().sum()"
   ]
  },
  {
   "cell_type": "markdown",
   "metadata": {},
   "source": [
    "#### Вывод\n",
    "Дубликат найден в game_actions и удален"
   ]
  },
  {
   "cell_type": "markdown",
   "metadata": {},
   "source": [
    "<a id='session1.3'></a>\n",
    "#### Приведение типов данных"
   ]
  },
  {
   "cell_type": "code",
   "execution_count": 25,
   "metadata": {},
   "outputs": [],
   "source": [
    "# Заменим тив в нужных столбцах на дату\n",
    "game_actions['event_datetime']=pd.to_datetime(game_actions['event_datetime'])\n",
    "ad_cost['day']=pd.to_datetime(ad_cost['day'])"
   ]
  },
  {
   "cell_type": "markdown",
   "metadata": {},
   "source": [
    "<a id='session2'></a>\n",
    "### Зависимость поведения от источника перехода"
   ]
  },
  {
   "cell_type": "markdown",
   "metadata": {},
   "source": [
    "<a id='session2.1'></a>\n",
    "#### Изучить распределение типов событий **event** по источникам **source**"
   ]
  },
  {
   "cell_type": "code",
   "execution_count": 26,
   "metadata": {},
   "outputs": [],
   "source": [
    "# Соединим нужные иаблицы\n",
    "game_actions_user = game_actions.merge(user_source, on='user_id')\n",
    "game_actions_user_group = game_actions_user.groupby(['source','event']).agg({'user_id':'count'})"
   ]
  },
  {
   "cell_type": "code",
   "execution_count": 27,
   "metadata": {},
   "outputs": [],
   "source": [
    "game_actions_user_pivot = game_actions_user.pivot_table(index=['source','event'],values='user_id',aggfunc='count').reset_index()"
   ]
  },
  {
   "cell_type": "code",
   "execution_count": 28,
   "metadata": {},
   "outputs": [
    {
     "data": {
      "image/png": "[encoded data removed]",
      "text/plain": [
       "<Figure size 864x432 with 1 Axes>"
      ]
     },
     "metadata": {
      "needs_background": "light"
     },
     "output_type": "display_data"
    }
   ],
   "source": [
    "plt.figure(figsize=(12,6))\n",
    "sns.barplot(data = game_actions_user_pivot,x='source',y='user_id', hue='event')\n",
    "plt.title('Распределение типов событий по источникам')\n",
    "plt.ylabel('Количество событий')\n",
    "plt.xlabel('Источник');"
   ]
  },
  {
   "cell_type": "markdown",
   "metadata": {},
   "source": [
    "#### Вывод\n",
    "Типы событий распределены по источникам одинаково. Зеачит вовлеченность пользвоателей из разных источников одинаковая "
   ]
  },
  {
   "cell_type": "markdown",
   "metadata": {},
   "source": [
    "<a id='session2.2'></a>\n",
    "#### Изучить распределение типов зданий **building_type** по источникам **source**"
   ]
  },
  {
   "cell_type": "code",
   "execution_count": 29,
   "metadata": {},
   "outputs": [],
   "source": [
    "game_actions_user_pivot = game_actions_user.pivot_table(index=['source','building_type'],values='user_id',aggfunc='count').reset_index()\\\n",
    ".sort_values('user_id')"
   ]
  },
  {
   "cell_type": "code",
   "execution_count": 30,
   "metadata": {},
   "outputs": [
    {
     "data": {
      "image/png": "[encoded data removed]",
      "text/plain": [
       "<Figure size 864x432 with 1 Axes>"
      ]
     },
     "metadata": {
      "needs_background": "light"
     },
     "output_type": "display_data"
    }
   ],
   "source": [
    "plt.figure(figsize=(12,6))\n",
    "sns.barplot(data = game_actions_user_pivot,x='source',y='user_id', hue='building_type')\n",
    "plt.title('Распределение типов зданий по источникам')\n",
    "plt.ylabel('Количество событий')\n",
    "plt.xlabel('Источник');"
   ]
  },
  {
   "cell_type": "markdown",
   "metadata": {},
   "source": [
    "#### Вывод\n",
    "Типы зданий одинаково распределени по источникам  \n",
    "Почти никто не строит reserch_center, возможно он самый ресурсозатратный по постройке или дает меньше всего бонусов, это поле для отдельного исследования"
   ]
  },
  {
   "cell_type": "markdown",
   "metadata": {},
   "source": [
    "<a id='session2.3'></a>\n",
    "#### Доля пользователей, совершивших хотя бы одно событие **event**"
   ]
  },
  {
   "cell_type": "code",
   "execution_count": 31,
   "metadata": {},
   "outputs": [],
   "source": [
    "# Соединим таблицы левым соединением, чтобы убедиться что мы взяли всех, пришедших пользвоателей.\n",
    "game_actions_user_left = user_source.merge(game_actions,on='user_id',how='left')"
   ]
  },
  {
   "cell_type": "code",
   "execution_count": 32,
   "metadata": {},
   "outputs": [
    {
     "data": {
      "text/plain": [
       "0"
      ]
     },
     "execution_count": 32,
     "metadata": {},
     "output_type": "execute_result"
    }
   ],
   "source": [
    "game_actions_user_left['event'].isnull().sum()"
   ]
  },
  {
   "cell_type": "markdown",
   "metadata": {},
   "source": [
    "#### Вывод\n",
    "Все пользвоатели совершили хотябы одно событие  \n",
    "Доля 100%"
   ]
  },
  {
   "cell_type": "markdown",
   "metadata": {},
   "source": [
    "<a id='session2.4'></a>\n",
    "#### Конверсия источников трафика"
   ]
  },
  {
   "cell_type": "code",
   "execution_count": 33,
   "metadata": {},
   "outputs": [],
   "source": [
    "# Отфильтруем по каналам\n",
    "source_yandex_direct = game_actions_user_left[game_actions_user_left['source']=='yandex_direct']\n",
    "instagram_new_adverts_direct = game_actions_user_left[game_actions_user_left['source']=='instagram_new_adverts']\n",
    "facebook_ads_direct = game_actions_user_left[game_actions_user_left['source']=='facebook_ads']\n",
    "youtube_channel_reklama_direct = game_actions_user_left[game_actions_user_left['source']=='youtube_channel_reklama']"
   ]
  },
  {
   "cell_type": "code",
   "execution_count": 34,
   "metadata": {},
   "outputs": [],
   "source": [
    "# Создадим списки для цикла\n",
    "source_list = [source_yandex_direct,instagram_new_adverts_direct,facebook_ads_direct,youtube_channel_reklama_direct]\n",
    "source_list_name = ['yandex_direct','instagram_new_adverts','facebook_ads','youtube_channel_reklama']"
   ]
  },
  {
   "cell_type": "code",
   "execution_count": 35,
   "metadata": {},
   "outputs": [
    {
     "name": "stdout",
     "output_type": "stream",
     "text": [
      "Конверсия пользователей yandex_direct равна 42.0%\n",
      "Конверсия пользователей instagram_new_adverts равна 44.0%\n",
      "Конверсия пользователей facebook_ads равна 42.0%\n",
      "Конверсия пользователей youtube_channel_reklama равна 43.0%\n"
     ]
    }
   ],
   "source": [
    "for i,j in zip(source_list,source_list_name):\n",
    "    user_count = i['user_id'].nunique()\n",
    "    user_level_done_count = i[i['event']=='finished_stage_1']['user_id'].nunique()\n",
    "    conversion = round(user_level_done_count / user_count,2)\n",
    "    print(f'Конверсия пользователей {j} равна {conversion*100}%')"
   ]
  },
  {
   "cell_type": "markdown",
   "metadata": {},
   "source": [
    "<a id='session2.5'></a>\n",
    "#### Распределение типов зданий по пользователям, которые выполнили **project**"
   ]
  },
  {
   "cell_type": "code",
   "execution_count": 36,
   "metadata": {},
   "outputs": [],
   "source": [
    "#Отфильтруем тех, кто выполнил проект\n",
    "users_done_project = game_actions_user_left[game_actions_user_left['event']=='project']"
   ]
  },
  {
   "cell_type": "code",
   "execution_count": 37,
   "metadata": {},
   "outputs": [],
   "source": [
    "# Найдем все события, которые совершали выполнившие проект пользвоатели\n",
    "users_done_project = game_actions_user_left.query('user_id in @users_done_project.user_id')"
   ]
  },
  {
   "cell_type": "code",
   "execution_count": 38,
   "metadata": {},
   "outputs": [],
   "source": [
    "users_done_project_pivot = users_done_project.pivot_table(index=['source','building_type'],values='user_id',aggfunc='count')\\\n",
    ".reset_index().sort_values('user_id')"
   ]
  },
  {
   "cell_type": "code",
   "execution_count": 39,
   "metadata": {},
   "outputs": [
    {
     "data": {
      "image/png": "[encoded data removed]",
      "text/plain": [
       "<Figure size 864x432 with 1 Axes>"
      ]
     },
     "metadata": {
      "needs_background": "light"
     },
     "output_type": "display_data"
    }
   ],
   "source": [
    "plt.figure(figsize=(12,6))\n",
    "sns.barplot(data = users_done_project_pivot,x='source',y='user_id', hue='building_type')\n",
    "plt.title('Распределение типов зданий по источникам пользвоателей, которые выполнили проект')\n",
    "plt.ylabel('Количество событий')\n",
    "plt.xlabel('Источник');"
   ]
  },
  {
   "cell_type": "markdown",
   "metadata": {},
   "source": [
    "#### Вывод\n",
    "Среди пользваотелей, которые выполнили проект тоже не популярен research_center, но у них доля постройки этого задние выше"
   ]
  },
  {
   "cell_type": "markdown",
   "metadata": {},
   "source": [
    "<a id='session2.6'></a>\n",
    "#### Распределение типов зданий по пользователям, которые выполнили победить врага"
   ]
  },
  {
   "cell_type": "code",
   "execution_count": 40,
   "metadata": {},
   "outputs": [],
   "source": [
    "# Выделим пользвоателей, которые победили врага\n",
    "users_defeat_enemy = game_actions_user_left[game_actions_user_left['event']=='finished_stage_1'].\\\n",
    "query('user_id not in @users_done_project.user_id')"
   ]
  },
  {
   "cell_type": "code",
   "execution_count": 41,
   "metadata": {},
   "outputs": [],
   "source": [
    "# Найдем все события, которые совершали пользователи, победившие врага\n",
    "users_defeat_enemy = game_actions_user_left.query('user_id in @users_defeat_enemy.user_id')"
   ]
  },
  {
   "cell_type": "code",
   "execution_count": 42,
   "metadata": {},
   "outputs": [],
   "source": [
    "users_defeat_enemy_pivot = users_defeat_enemy.pivot_table(index=['source','building_type'],values='user_id',aggfunc='count')\\\n",
    ".reset_index().sort_values('user_id')"
   ]
  },
  {
   "cell_type": "code",
   "execution_count": 43,
   "metadata": {},
   "outputs": [
    {
     "data": {
      "image/png": "[encoded data removed]",
      "text/plain": [
       "<Figure size 864x432 with 1 Axes>"
      ]
     },
     "metadata": {
      "needs_background": "light"
     },
     "output_type": "display_data"
    }
   ],
   "source": [
    "plt.figure(figsize=(12,6))\n",
    "sns.barplot(data = users_defeat_enemy_pivot,x='source',y='user_id', hue='building_type')\n",
    "plt.title('Распределение типов зданий по источникам пользвоателей, которые победили врага')\n",
    "plt.ylabel('Количество событий')\n",
    "plt.xlabel('Источник');"
   ]
  },
  {
   "cell_type": "markdown",
   "metadata": {},
   "source": [
    "#### Вывод\n",
    "По распределению видно, что пользвоатели не любят строить research_center, что-то с ним не так"
   ]
  },
  {
   "cell_type": "markdown",
   "metadata": {},
   "source": [
    "### Стоимость привлечения пользователя"
   ]
  },
  {
   "cell_type": "code",
   "execution_count": 44,
   "metadata": {},
   "outputs": [],
   "source": [
    "ad_cost.rename(columns={'day':'date'},inplace=True)"
   ]
  },
  {
   "cell_type": "code",
   "execution_count": 45,
   "metadata": {},
   "outputs": [],
   "source": [
    "# Создадим поле с датой события без времени\n",
    "game_actions_user_left['date'] = game_actions_user_left['event_datetime'].dt.date\n",
    "game_actions_user_left['date'] = pd.to_datetime(game_actions_user_left['date'])"
   ]
  },
  {
   "cell_type": "code",
   "execution_count": 46,
   "metadata": {},
   "outputs": [],
   "source": [
    "# Найдем дату первого события пользвоателя\n",
    "first_user_date = game_actions_user_left.groupby(['source','user_id'])['date'].min().reset_index()"
   ]
  },
  {
   "cell_type": "code",
   "execution_count": 47,
   "metadata": {},
   "outputs": [],
   "source": [
    "# Считаем количество пользвоателей, пришедгих за день\n",
    "count_users_per_day = first_user_date.groupby(['source','date'])['user_id'].nunique().reset_index()"
   ]
  },
  {
   "cell_type": "code",
   "execution_count": 48,
   "metadata": {},
   "outputs": [],
   "source": [
    "# Соединим таблицы\n",
    "cost_user_source = pd.merge(ad_cost,count_users_per_day, left_on=['source','date'],right_on=['source','date'])"
   ]
  },
  {
   "cell_type": "code",
   "execution_count": 49,
   "metadata": {},
   "outputs": [],
   "source": [
    "# Найдем стоимость клика в день в конкретном источнике\n",
    "cost_user_source['cost_one_user'] = cost_user_source['cost']/cost_user_source['user_id']"
   ]
  },
  {
   "cell_type": "code",
   "execution_count": 50,
   "metadata": {},
   "outputs": [
    {
     "data": {
      "text/plain": [
       "source\n",
       "facebook_ads               0.467194\n",
       "instagram_new_adverts      0.390205\n",
       "yandex_direct              0.274126\n",
       "youtube_channel_reklama    0.245682\n",
       "Name: cost_one_user, dtype: float64"
      ]
     },
     "execution_count": 50,
     "metadata": {},
     "output_type": "execute_result"
    }
   ],
   "source": [
    "cost_user_source.groupby('source')['cost_one_user'].mean()"
   ]
  },
  {
   "cell_type": "markdown",
   "metadata": {},
   "source": [
    "#### Вывод\n",
    "Самый эффективный по стоимости присвлечения youtube_channel_reklama"
   ]
  },
  {
   "cell_type": "markdown",
   "metadata": {},
   "source": [
    "### Retention rate"
   ]
  },
  {
   "cell_type": "code",
   "execution_count": 51,
   "metadata": {},
   "outputs": [],
   "source": [
    "# Найдем дату первого посещения\n",
    "first_date = game_actions_user_left.groupby(['user_id'])['date'].min()\n",
    "first_date.name = 'first_date'"
   ]
  },
  {
   "cell_type": "code",
   "execution_count": 52,
   "metadata": {},
   "outputs": [],
   "source": [
    "# Соединим таблицу с датой первого события с основной\n",
    "game_actions_user_left = game_actions_user_left.join(first_date,on='user_id')"
   ]
  },
  {
   "cell_type": "code",
   "execution_count": 53,
   "metadata": {},
   "outputs": [],
   "source": [
    "# У нас данные за 5 недель, поэтому retention расчитаем по неделям\n",
    "game_actions_user_left['week'] = pd.to_datetime(game_actions_user_left['date'], unit='d') -\\\n",
    "pd.to_timedelta(game_actions_user_left['date'].dt.dayofweek, unit='d')\n",
    "\n",
    "game_actions_user_left['first_week'] = pd.to_datetime(game_actions_user_left['first_date'], unit='d') -\\\n",
    "pd.to_timedelta(game_actions_user_left['first_date'].dt.dayofweek, unit='d') "
   ]
  },
  {
   "cell_type": "code",
   "execution_count": 54,
   "metadata": {},
   "outputs": [],
   "source": [
    "# Считаем лайфтайм\n",
    "game_actions_user_left['cohort_lifetime'] = game_actions_user_left['week'] - game_actions_user_left['first_week']\n",
    "game_actions_user_left['cohort_lifetime'] = game_actions_user_left['cohort_lifetime'] / np.timedelta64(1,'W')\n",
    "game_actions_user_left['cohort_lifetime'] = game_actions_user_left['cohort_lifetime'].astype('int') "
   ]
  },
  {
   "cell_type": "code",
   "execution_count": 55,
   "metadata": {},
   "outputs": [],
   "source": [
    "cohorts = game_actions_user_left.groupby(['first_week','cohort_lifetime']).agg({'user_id':'nunique'}).reset_index() "
   ]
  },
  {
   "cell_type": "code",
   "execution_count": 56,
   "metadata": {},
   "outputs": [],
   "source": [
    "# Считаем изначальное коилчество в когорте \n",
    "start_users_count = cohorts[cohorts['cohort_lifetime'] == 0][['first_week','user_id']]\n",
    "start_users_count = start_users_count.rename(columns={'user_id':'cohort_users'}) "
   ]
  },
  {
   "cell_type": "code",
   "execution_count": 57,
   "metadata": {},
   "outputs": [],
   "source": [
    "# Соединим таблицы с начальным количеством пользоывателей с текущим\n",
    "cohorts = cohorts.merge(start_users_count,on='first_week')"
   ]
  },
  {
   "cell_type": "code",
   "execution_count": 58,
   "metadata": {},
   "outputs": [],
   "source": [
    "# Считаем ретеншн\n",
    "cohorts['retention'] = cohorts['user_id']/cohorts['cohort_users'] "
   ]
  },
  {
   "cell_type": "code",
   "execution_count": 59,
   "metadata": {},
   "outputs": [],
   "source": [
    "retention_pivot = cohorts.pivot_table(index='first_week',columns='cohort_lifetime',values='retention',aggfunc='sum')\n",
    "# Удалим данные по нулевой неделе\n",
    "retention_pivot = retention_pivot.drop(retention_pivot.columns[0],axis='columns')"
   ]
  },
  {
   "cell_type": "code",
   "execution_count": 60,
   "metadata": {},
   "outputs": [
    {
     "data": {
      "image/png": "[encoded data removed]",
      "text/plain": [
       "<Figure size 936x288 with 2 Axes>"
      ]
     },
     "metadata": {
      "needs_background": "light"
     },
     "output_type": "display_data"
    }
   ],
   "source": [
    "# Строим хитмэп\n",
    "plt.figure(figsize=(13,4))\n",
    "plt.title('Retention rate')\n",
    "plt.xlabel('lifetime')\n",
    "sns.heatmap(retention_pivot, annot=True, fmt='.1%', linewidths=1, linecolor='gray');"
   ]
  },
  {
   "cell_type": "markdown",
   "metadata": {},
   "source": [
    "### Вывод\n",
    "Данные у нас по пользователям, пришедшим в одну неделю.  \n",
    "Через месяц у нас остается 0,2% пользвоателей, нужно развивать функционал игры."
   ]
  },
  {
   "cell_type": "markdown",
   "metadata": {},
   "source": [
    "<a id = 'session3'></a>\n",
    "### Проверка гипотез"
   ]
  },
  {
   "cell_type": "markdown",
   "metadata": {},
   "source": [
    "<a id='session3.1'></a>\n",
    "#### Время завершения уровня различается в зависимости от способа прохождения"
   ]
  },
  {
   "cell_type": "markdown",
   "metadata": {},
   "source": [
    "##### Сформулируем гепотизы\n",
    "H0 - Выборки одинаковы в рамках статистической значимости  \n",
    "H1 - Выборки различаюстя в рамках статистической значимости  \n",
    "Для теста выберем тест Мана-Уитни, так распределение ненормальное"
   ]
  },
  {
   "cell_type": "code",
   "execution_count": 61,
   "metadata": {},
   "outputs": [],
   "source": [
    "# Отфтльтруем по событиям окончания уровня\n",
    "users_done_project_lvl_done = game_actions_user_left[game_actions_user_left['event']=='project']\n",
    "\n",
    "users_defeat_enemy_lvl_done = game_actions_user_left[game_actions_user_left['event']=='finished_stage_1'].\\\n",
    "query('user_id not in @users_done_project_lvl_done.user_id')"
   ]
  },
  {
   "cell_type": "code",
   "execution_count": 62,
   "metadata": {},
   "outputs": [],
   "source": [
    "# Выделим дату и преобразуем в соответствующий тип\n",
    "users_done_project_lvl_done['event_date'] = pd.to_datetime(users_done_project_lvl_done['event_datetime']).dt.date\n",
    "users_done_project_lvl_done['event_date'] = pd.to_datetime(users_done_project_lvl_done['event_date'])\n",
    "\n",
    "users_defeat_enemy_lvl_done['event_date'] = pd.to_datetime(users_defeat_enemy_lvl_done['event_datetime']).dt.date\n",
    "users_defeat_enemy_lvl_done['event_date'] = pd.to_datetime(users_defeat_enemy_lvl_done['event_date'])"
   ]
  },
  {
   "cell_type": "code",
   "execution_count": 63,
   "metadata": {},
   "outputs": [],
   "source": [
    "# Соединим с таблицей с датасм первого события\n",
    "users_done_project_lvl_done = users_done_project_lvl_done.join(first_date,on='user_id',lsuffix='_left', rsuffix='_right')\n",
    "users_defeat_enemy_lvl_done = users_defeat_enemy_lvl_done.join(first_date,on='user_id',lsuffix='_left', rsuffix='_right')"
   ]
  },
  {
   "cell_type": "code",
   "execution_count": 64,
   "metadata": {},
   "outputs": [],
   "source": [
    "# Найдем разницу в днях\n",
    "users_done_project_lvl_done['period'] = (users_done_project_lvl_done['event_date']-users_done_project_lvl_done['first_date_left']).dt.days\n",
    "users_defeat_enemy_lvl_done['period'] = (users_defeat_enemy_lvl_done['event_date']-users_defeat_enemy_lvl_done['first_date_left']).dt.days"
   ]
  },
  {
   "cell_type": "code",
   "execution_count": 65,
   "metadata": {},
   "outputs": [
    {
     "name": "stdout",
     "output_type": "stream",
     "text": [
      "Стат. значимость времени завершения уровня в зависимости от стратегии 0.000000000001893707561472180250\n"
     ]
    }
   ],
   "source": [
    "print(\"Стат. значимость времени завершения уровня в зависимости от стратегии {0:.30f}\".format(stats.mannwhitneyu(users_done_project_lvl_done['period'],users_defeat_enemy_lvl_done['period'])[1]))"
   ]
  },
  {
   "cell_type": "code",
   "execution_count": 66,
   "metadata": {},
   "outputs": [
    {
     "name": "stdout",
     "output_type": "stream",
     "text": [
      "Пользвоатели выбирают стратегию победы над врагом чаще в 2.12\n"
     ]
    }
   ],
   "source": [
    "print('Пользвоатели выбирают стратегию победы над врагом чаще в',round(users_defeat_enemy_lvl_done['user_id'].nunique()/users_done_project_lvl_done['user_id'].nunique(),2))"
   ]
  },
  {
   "cell_type": "code",
   "execution_count": 67,
   "metadata": {},
   "outputs": [
    {
     "name": "stdout",
     "output_type": "stream",
     "text": [
      "Почтситаем экстримальные значения для users_defeat_enemy_lvl_done 0.1     6.0\n",
      "0.9    16.0\n",
      "Name: period, dtype: float64\n",
      "Почтситаем экстримальные значения для users_done_project_lvl_done 0.1     8.0\n",
      "0.9    17.0\n",
      "Name: period, dtype: float64\n"
     ]
    }
   ],
   "source": [
    "print('Почтситаем экстримальные значения для users_defeat_enemy_lvl_done',users_defeat_enemy_lvl_done['period'].quantile([0.1,0.9]))\n",
    "print('Почтситаем экстримальные значения для users_done_project_lvl_done',users_done_project_lvl_done['period'].quantile([0.1,0.9]))"
   ]
  },
  {
   "cell_type": "code",
   "execution_count": 68,
   "metadata": {},
   "outputs": [],
   "source": [
    "# Избавимся от выбросов\n",
    "users_done_project_lvl_done_withouy_extrim = users_done_project_lvl_done.query('period > 8 and period < 17')\n",
    "users_defeat_enemy_lvl_done_withouy_extrim = users_defeat_enemy_lvl_done.query('period > 6 and period < 17')"
   ]
  },
  {
   "cell_type": "code",
   "execution_count": 69,
   "metadata": {},
   "outputs": [
    {
     "name": "stdout",
     "output_type": "stream",
     "text": [
      "1.08\n"
     ]
    }
   ],
   "source": [
    "# Почтитаем относительную разницу времени прохождения\n",
    "print(round(users_done_project_lvl_done_withouy_extrim['period'].mean()/users_defeat_enemy_lvl_done_withouy_extrim['period'].mean(),2))"
   ]
  },
  {
   "cell_type": "markdown",
   "metadata": {},
   "source": [
    "#### Вывод\n",
    "Время окончания уровня зависит от стратегии прохождения.  \n",
    "Нет оснований отвергать H1"
   ]
  },
  {
   "cell_type": "markdown",
   "metadata": {},
   "source": [
    "<a id='session3.2'></a>\n",
    "#### Время завершения уровня различается в зависимости от источника перехода"
   ]
  },
  {
   "cell_type": "code",
   "execution_count": 70,
   "metadata": {},
   "outputs": [],
   "source": [
    "# Выделим время и преобразуем в соответствующий тип\n",
    "source_yandex_direct['event_date'] = pd.to_datetime(source_yandex_direct['event_datetime']).dt.date\n",
    "source_yandex_direct['event_date'] = pd.to_datetime(source_yandex_direct['event_date'])\n",
    "                                                  \n",
    "instagram_new_adverts_direct['event_date'] = pd.to_datetime(instagram_new_adverts_direct['event_datetime']).dt.date\n",
    "instagram_new_adverts_direct['event_date'] = pd.to_datetime(instagram_new_adverts_direct['event_date'])\n",
    "\n",
    "facebook_ads_direct['event_date'] = pd.to_datetime(facebook_ads_direct['event_datetime']).dt.date\n",
    "facebook_ads_direct['event_date'] = pd.to_datetime(facebook_ads_direct['event_date'])\n",
    "\n",
    "youtube_channel_reklama_direct['event_date'] = pd.to_datetime(youtube_channel_reklama_direct['event_datetime']).dt.date\n",
    "youtube_channel_reklama_direct['event_date'] = pd.to_datetime(youtube_channel_reklama_direct['event_date'])"
   ]
  },
  {
   "cell_type": "code",
   "execution_count": 71,
   "metadata": {},
   "outputs": [],
   "source": [
    "# Соединим таблицы с датами первого события\n",
    "source_yandex_direct = source_yandex_direct.join(first_date,on='user_id')\n",
    "instagram_new_adverts_direct = instagram_new_adverts_direct.join(first_date,on='user_id')\n",
    "facebook_ads_direct = facebook_ads_direct.join(first_date,on='user_id')\n",
    "youtube_channel_reklama_direct = youtube_channel_reklama_direct.join(first_date,on='user_id')"
   ]
  },
  {
   "cell_type": "code",
   "execution_count": 72,
   "metadata": {},
   "outputs": [],
   "source": [
    "# Отфильтруем события окончания первого уровня\n",
    "source_yandex_direct_final = source_yandex_direct[source_yandex_direct['event']=='finished_stage_1']\n",
    "instagram_new_adverts_direct_final = instagram_new_adverts_direct[instagram_new_adverts_direct['event']=='finished_stage_1']\n",
    "facebook_ads_direct_final = facebook_ads_direct[facebook_ads_direct['event']=='finished_stage_1']\n",
    "youtube_channel_reklama_direct_final = youtube_channel_reklama_direct[youtube_channel_reklama_direct['event']=='finished_stage_1']"
   ]
  },
  {
   "cell_type": "code",
   "execution_count": 73,
   "metadata": {},
   "outputs": [],
   "source": [
    "# Считаем период прохождения\n",
    "source_yandex_direct_final['period'] = (source_yandex_direct_final['event_date']-source_yandex_direct_final['first_date']).dt.days\n",
    "instagram_new_adverts_direct_final['period'] = (instagram_new_adverts_direct_final['event_date']-instagram_new_adverts_direct_final['first_date']).dt.days\n",
    "facebook_ads_direct_final['period'] = (facebook_ads_direct_final['event_date']-facebook_ads_direct_final['first_date']).dt.days\n",
    "youtube_channel_reklama_direct_final['period'] = (youtube_channel_reklama_direct_final['event_date']-youtube_channel_reklama_direct_final['first_date']).dt.days"
   ]
  },
  {
   "cell_type": "code",
   "execution_count": 74,
   "metadata": {},
   "outputs": [
    {
     "name": "stdout",
     "output_type": "stream",
     "text": [
      "Стат. значимость времени завершения уровня yandex instagram 0.207\n",
      "Стат. значимость времени завершения уровня yandex facebook 0.410\n",
      "Стат. значимость времени завершения уровня yandex youtube 0.170\n",
      "Стат. значимость времени завершения уровня instagram facebook 0.317\n",
      "Стат. значимость времени завершения уровня instagram youtube 0.430\n",
      "Стат. значимость времени завершения уровня facebook youtube 0.260\n"
     ]
    }
   ],
   "source": [
    "# Проведем тесты\n",
    "print(\"Стат. значимость времени завершения уровня yandex instagram {0:.3f}\".format(stats.mannwhitneyu(source_yandex_direct_final['period'],instagram_new_adverts_direct_final['period'])[1]))\n",
    "print(\"Стат. значимость времени завершения уровня yandex facebook {0:.3f}\".format(stats.mannwhitneyu(source_yandex_direct_final['period'],facebook_ads_direct_final['period'])[1]))\n",
    "print(\"Стат. значимость времени завершения уровня yandex youtube {0:.3f}\".format(stats.mannwhitneyu(source_yandex_direct_final['period'],youtube_channel_reklama_direct_final['period'])[1]))\n",
    "print(\"Стат. значимость времени завершения уровня instagram facebook {0:.3f}\".format(stats.mannwhitneyu(instagram_new_adverts_direct_final['period'],facebook_ads_direct_final['period'])[1]))\n",
    "print(\"Стат. значимость времени завершения уровня instagram youtube {0:.3f}\".format(stats.mannwhitneyu(instagram_new_adverts_direct_final['period'],youtube_channel_reklama_direct_final['period'])[1]))\n",
    "print(\"Стат. значимость времени завершения уровня facebook youtube {0:.3f}\".format(stats.mannwhitneyu(facebook_ads_direct_final['period'],youtube_channel_reklama_direct_final['period'])[1]))"
   ]
  },
  {
   "cell_type": "markdown",
   "metadata": {},
   "source": [
    "#### Вывод\n",
    "Время прохождения уровня пользваотелями из разных источников не отличается\n",
    "Нет оснований отвергать H0"
   ]
  },
  {
   "cell_type": "markdown",
   "metadata": {},
   "source": [
    "<a id='session5'></a>\n",
    "### Вывод  \n",
    "Лучше расширять рекламную компанию в youtube_channel_reklama, конверсия 43%, и самая дешевая стоимость клика.  \n",
    "Между стратегиями проходжения есть статистически значимая разница. Те, кто выбрал стратегию проекта, в среднем, проходят уровень медленее в 1.08 раз.  \n",
    "Пользвоатели выбирают стратегию победы над врагом чаще в 2.12 раз, нужно придумать, как сделать проект интереснее, чтобы сбалансировать сложность стратегий.\n",
    "\n",
    "\n",
    "*Под конверсией имеется ввиду доля прошедших 1-ый уровень"
   ]
  }
 ],
 "metadata": {
  "kernelspec": {
   "display_name": "Python 3",
   "language": "python",
   "name": "python3"
  },
  "language_info": {
   "codemirror_mode": {
    "name": "ipython",
    "version": 3
   },
   "file_extension": ".py",
   "mimetype": "text/x-python",
   "name": "python",
   "nbconvert_exporter": "python",
   "pygments_lexer": "ipython3",
   "version": "3.8.3"
  }
 },
 "nbformat": 4,
 "nbformat_minor": 2
}
