{
 "cells": [
  {
   "cell_type": "markdown",
   "metadata": {},
   "source": [
    "# Анализ перспективности тарифов связи"
   ]
  },
  {
   "cell_type": "markdown",
   "metadata": {},
   "source": [
    "## Цель проекта\n",
    "Сделать вывод, какой тариф, объективно, лучше"
   ]
  },
  {
   "cell_type": "markdown",
   "metadata": {},
   "source": [
    "## Имеющиеся данные\n",
    "1. Файл с даннымы о тарифах\n",
    "2. Файл с даннымы пользователях\n",
    "3. Файлы с даннымы звонках, сообщениях и об интернет-сессиях"
   ]
  },
  {
   "cell_type": "markdown",
   "metadata": {},
   "source": [
    "## Содержание\n",
    "<h3>Шаг 1.<a href='#session1'>Изучение общей информации</a></h3>\n",
    "<h3>Шаг 2.<a href='#session2'>Подготовка данных</a></h3>\n",
    "<h4>Шаг 2.1<a href='#session2.1'>Приведение типов</a></h4>\n",
    "<h4>Шаг 2.2<a href='#session2.2'>Исправление ошибок в данных</a></h4>\n",
    "<h4>Шаг 2.3<a href='#session2.3'>Подсчет данных по каждому пользователю:</a></h4>\n",
    "<h5>Шаг 2.3.1<a href='#session2.3.1'>Количество сделанных звонков и израсходованных минут разговора, объема трафика и сообщений  по месяцам</a></h5>\n",
    "<h5>Шаг 2.3.4<a href='#session2.3.2'>Помесячная выручка с каждого пользователя</a></h5>\n",
    "<h3>Шаг 3.<a href='#session3'>Анализ данных</a></h3>\n",
    "<h3>Шаг 4.<a href='#session4'>Проверка гипотез</a></h3>\n",
    "<h4>Шаг 4.1<a href='#session4.1'>средняя выручка пользователей тарифов «Ультра» и «Смарт» различается</a></h4>\n",
    "<h4>Шаг 4.2<a href='#session4.2'>средняя выручка пользователей из Москвы отличается от выручки пользователей из других регионов</a></h4>\n",
    "<h4>Шаг 4.3<a href='#session4.3'>Формулировка нулевой и альтернативной гипотез</a></h4>\n",
    "<h4>Шаг 4.4<a href='#session4.4'>Выбор критерия проверки гипотез</a></h4>\n",
    "<h3>Шаг 5.<a href='#session5'>Общий вывод</a></h3>\n"
   ]
  },
  {
   "cell_type": "code",
   "execution_count": 1,
   "metadata": {},
   "outputs": [],
   "source": [
    "import pandas as pd\n",
    "import numpy as np\n",
    "from scipy import stats as st\n",
    "import warnings\n",
    "warnings.filterwarnings('ignore')\n",
    "import matplotlib.pyplot as plt"
   ]
  },
  {
   "cell_type": "markdown",
   "metadata": {},
   "source": [
    "<a id = 'session1'></a>\n",
    "### Изучение общей информации"
   ]
  },
  {
   "cell_type": "code",
   "execution_count": 2,
   "metadata": {},
   "outputs": [],
   "source": [
    "calls_data = pd.read_csv('/datasets/calls.csv')\n",
    "internet_data = pd.read_csv('/datasets/internet.csv')\n",
    "messages_data = pd.read_csv('/datasets/messages.csv')\n",
    "tariffs_data = pd.read_csv('/datasets/tariffs.csv')\n",
    "users_data = pd.read_csv('/datasets/users.csv')\n"
   ]
  },
  {
   "cell_type": "code",
   "execution_count": 3,
   "metadata": {},
   "outputs": [
    {
     "name": "stdout",
     "output_type": "stream",
     "text": [
      "<class 'pandas.core.frame.DataFrame'>\n",
      "RangeIndex: 202607 entries, 0 to 202606\n",
      "Data columns (total 4 columns):\n",
      "id           202607 non-null object\n",
      "call_date    202607 non-null object\n",
      "duration     202607 non-null float64\n",
      "user_id      202607 non-null int64\n",
      "dtypes: float64(1), int64(1), object(2)\n",
      "memory usage: 6.2+ MB\n"
     ]
    }
   ],
   "source": [
    "calls_data.info()"
   ]
  },
  {
   "cell_type": "code",
   "execution_count": 4,
   "metadata": {},
   "outputs": [
    {
     "data": {
      "text/plain": [
       "0"
      ]
     },
     "execution_count": 4,
     "metadata": {},
     "output_type": "execute_result"
    }
   ],
   "source": [
    "calls_data.duplicated().sum()"
   ]
  },
  {
   "cell_type": "code",
   "execution_count": 5,
   "metadata": {},
   "outputs": [
    {
     "name": "stdout",
     "output_type": "stream",
     "text": [
      "<class 'pandas.core.frame.DataFrame'>\n",
      "RangeIndex: 149396 entries, 0 to 149395\n",
      "Data columns (total 5 columns):\n",
      "Unnamed: 0      149396 non-null int64\n",
      "id              149396 non-null object\n",
      "mb_used         149396 non-null float64\n",
      "session_date    149396 non-null object\n",
      "user_id         149396 non-null int64\n",
      "dtypes: float64(1), int64(2), object(2)\n",
      "memory usage: 5.7+ MB\n"
     ]
    }
   ],
   "source": [
    "internet_data.info()"
   ]
  },
  {
   "cell_type": "code",
   "execution_count": 6,
   "metadata": {},
   "outputs": [
    {
     "data": {
      "text/plain": [
       "0"
      ]
     },
     "execution_count": 6,
     "metadata": {},
     "output_type": "execute_result"
    }
   ],
   "source": [
    "internet_data.duplicated().sum()"
   ]
  },
  {
   "cell_type": "code",
   "execution_count": 7,
   "metadata": {},
   "outputs": [
    {
     "name": "stdout",
     "output_type": "stream",
     "text": [
      "<class 'pandas.core.frame.DataFrame'>\n",
      "RangeIndex: 123036 entries, 0 to 123035\n",
      "Data columns (total 3 columns):\n",
      "id              123036 non-null object\n",
      "message_date    123036 non-null object\n",
      "user_id         123036 non-null int64\n",
      "dtypes: int64(1), object(2)\n",
      "memory usage: 2.8+ MB\n"
     ]
    }
   ],
   "source": [
    "messages_data.info()"
   ]
  },
  {
   "cell_type": "code",
   "execution_count": 8,
   "metadata": {},
   "outputs": [
    {
     "data": {
      "text/plain": [
       "0"
      ]
     },
     "execution_count": 8,
     "metadata": {},
     "output_type": "execute_result"
    }
   ],
   "source": [
    "messages_data.duplicated().sum()"
   ]
  },
  {
   "cell_type": "code",
   "execution_count": 9,
   "metadata": {},
   "outputs": [
    {
     "name": "stdout",
     "output_type": "stream",
     "text": [
      "<class 'pandas.core.frame.DataFrame'>\n",
      "RangeIndex: 2 entries, 0 to 1\n",
      "Data columns (total 8 columns):\n",
      "messages_included        2 non-null int64\n",
      "mb_per_month_included    2 non-null int64\n",
      "minutes_included         2 non-null int64\n",
      "rub_monthly_fee          2 non-null int64\n",
      "rub_per_gb               2 non-null int64\n",
      "rub_per_message          2 non-null int64\n",
      "rub_per_minute           2 non-null int64\n",
      "tariff_name              2 non-null object\n",
      "dtypes: int64(7), object(1)\n",
      "memory usage: 256.0+ bytes\n"
     ]
    }
   ],
   "source": [
    "tariffs_data.info()"
   ]
  },
  {
   "cell_type": "code",
   "execution_count": 10,
   "metadata": {},
   "outputs": [
    {
     "name": "stdout",
     "output_type": "stream",
     "text": [
      "<class 'pandas.core.frame.DataFrame'>\n",
      "RangeIndex: 500 entries, 0 to 499\n",
      "Data columns (total 8 columns):\n",
      "user_id       500 non-null int64\n",
      "age           500 non-null int64\n",
      "churn_date    38 non-null object\n",
      "city          500 non-null object\n",
      "first_name    500 non-null object\n",
      "last_name     500 non-null object\n",
      "reg_date      500 non-null object\n",
      "tariff        500 non-null object\n",
      "dtypes: int64(2), object(6)\n",
      "memory usage: 31.4+ KB\n"
     ]
    }
   ],
   "source": [
    "users_data.info()"
   ]
  },
  {
   "cell_type": "code",
   "execution_count": 11,
   "metadata": {},
   "outputs": [
    {
     "data": {
      "text/plain": [
       "0"
      ]
     },
     "execution_count": 11,
     "metadata": {},
     "output_type": "execute_result"
    }
   ],
   "source": [
    "users_data.duplicated().sum()"
   ]
  },
  {
   "cell_type": "markdown",
   "metadata": {},
   "source": [
    "### Вывод\n",
    "В типах данных есть неточности и ошибки  \n",
    "Дубликатов в таблицах нет"
   ]
  },
  {
   "cell_type": "markdown",
   "metadata": {},
   "source": [
    "<a id = 'session2'></a>\n",
    "### Подготовка данных"
   ]
  },
  {
   "cell_type": "markdown",
   "metadata": {},
   "source": [
    "<a id = 'session2.1'></a>\n",
    "#### Приведение типов"
   ]
  },
  {
   "cell_type": "code",
   "execution_count": 12,
   "metadata": {},
   "outputs": [],
   "source": [
    "calls_data['call_date'] = pd.to_datetime(calls_data['call_date'], format = '%Y-%m-%dT%H:%M:%S') #Преобразовали в дату\n",
    "calls_data['month'] = pd.DatetimeIndex(calls_data['call_date']).month\n",
    "calls_data['user_id'] = calls_data['user_id'].astype('str') # user_id это не количественная переменная\n",
    "calls_data['duration'] = calls_data['duration'].apply(np.ceil) # Округлили длительность разоворов - из задания(«Мегалайн» всегда округляет вверх значения минут и мегабайтов.)\n",
    "calls_data['duration'] = calls_data['duration'].astype('int')"
   ]
  },
  {
   "cell_type": "code",
   "execution_count": 13,
   "metadata": {
    "scrolled": true
   },
   "outputs": [],
   "source": [
    "messages_data['user_id'] = messages_data['user_id'].astype('str')\n",
    "messages_data['message_date'] = pd.to_datetime(messages_data['message_date'], format = '%Y-%m-%dT%H:%M:%S')\n",
    "messages_data['month'] = pd.DatetimeIndex(messages_data['message_date']).month\n"
   ]
  },
  {
   "cell_type": "code",
   "execution_count": 14,
   "metadata": {},
   "outputs": [],
   "source": [
    "internet_data['user_id'] = internet_data['user_id'].astype('str')\n",
    "internet_data['session_date'] = pd.to_datetime(internet_data['session_date'], format = '%Y-%m-%dT%H:%M:%S') #Преобразовали в дату\n",
    "internet_data['month'] = pd.DatetimeIndex(internet_data['session_date']).month\n",
    "internet_data['mb_used'] = internet_data['mb_used'].apply(np.ceil) # Округлили трафик - из задания(«Мегалайн» всегда округляет вверх значения минут и мегабайтов.)\n",
    "internet_data['mb_used'] = internet_data['mb_used'].astype('int')"
   ]
  },
  {
   "cell_type": "code",
   "execution_count": 15,
   "metadata": {},
   "outputs": [],
   "source": [
    "users_data['user_id'] = users_data['user_id'].astype('str')"
   ]
  },
  {
   "cell_type": "markdown",
   "metadata": {},
   "source": [
    "### Вывод\n",
    "1. Заменины строковые столбцы на дату, там, где это требовалось\n",
    "2. Округлены потраченные mb и минуты трафика\n",
    "3. Дубликатов необнаружено\n",
    "4. Поопущенных значений не обнаружено, кроме обоснованных в users_data['churn_date']"
   ]
  },
  {
   "cell_type": "markdown",
   "metadata": {},
   "source": [
    "<a id = 'session2.2'></a>\n",
    "#### Исправление ошибок в данных"
   ]
  },
  {
   "cell_type": "code",
   "execution_count": 16,
   "metadata": {},
   "outputs": [],
   "source": [
    "internet_data.drop(['Unnamed: 0'], axis = 1, inplace = True) # Удалили столбец, дублирующий index таблицы"
   ]
  },
  {
   "cell_type": "code",
   "execution_count": 17,
   "metadata": {},
   "outputs": [],
   "source": [
    "calls_data.drop(calls_data[calls_data['duration'] == 0].index, inplace=True)"
   ]
  },
  {
   "cell_type": "code",
   "execution_count": 18,
   "metadata": {},
   "outputs": [],
   "source": [
    "internet_data.drop(internet_data[internet_data['mb_used'] == 0].index, inplace=True)"
   ]
  },
  {
   "cell_type": "markdown",
   "metadata": {},
   "source": [
    "#### Вывод\n",
    "В таблице internet_data был удален столбец 'Unnamed: 0', так как он ненесет полезной информации и просто дублирует индекс  \n",
    "В столбце used_mb таблицы internet_data были удалены нулевые значения, так как нам важно количество потраченных Мб, а не количество 'неудачных' подключений к сети.  \n",
    "В столбце duration таблицы calls_data были удалены нулевые значения. Если звонок не прошел по той или иной причине, его не стоит включать а рачет количества сделанных звонков и тем более он ненесет информации о длительности разговора."
   ]
  },
  {
   "cell_type": "markdown",
   "metadata": {},
   "source": [
    "<a id='session2.3'></a>\n",
    "#### Подсчет данных по каждому пользователю"
   ]
  },
  {
   "cell_type": "markdown",
   "metadata": {},
   "source": [
    "<a id = 'session2.3.1'></a>\n",
    "##### Количество сделанных звонков и израсходованных минут разговора, объема трафика и сообщений  по месяцам"
   ]
  },
  {
   "cell_type": "code",
   "execution_count": 19,
   "metadata": {},
   "outputs": [],
   "source": [
    "# Делаем сводные таблыцы\n",
    "calls_data_pivot = calls_data.pivot_table(index = ['user_id','month'],values = 'duration',aggfunc = ['sum','count']) \n",
    "messages_data_pivot = messages_data.pivot_table(index = ['user_id','month'],values = 'id',aggfunc = 'count')\n",
    "internet_data_pivot = internet_data.pivot_table(index = ['user_id','month'],values = 'mb_used',aggfunc = 'sum')\n",
    "users_data_pivot = users_data.pivot_table(index = ['user_id'],values = 'tariff',aggfunc = 'sum')\n",
    "# Объединяем таблицы по полю user_id\n",
    "cal_mes = calls_data_pivot.reset_index().merge(messages_data_pivot, on = ['user_id','month'],how='outer')\n",
    "cal_mes_inet = cal_mes.merge(internet_data_pivot, on = ['user_id','month'],how='outer')\n",
    "cal_mes_inet_user = cal_mes_inet.merge(users_data_pivot, on = 'user_id')\n",
    "cal_mes_inet_user.drop('user_id', axis = 1, inplace = True)\n",
    "cal_mes_inet_user.drop('month', axis = 1, inplace = True)\n",
    "cal_mes_inet_user.rename(columns={'tariff':'tariff_name'}, inplace = True)\n",
    "# Присоединяем таблицу тарифов\n",
    "cal_mes_inet_user_tarif = cal_mes_inet_user.merge(tariffs_data, on='tariff_name')"
   ]
  },
  {
   "cell_type": "code",
   "execution_count": 20,
   "metadata": {},
   "outputs": [],
   "source": [
    "cal_mes_inet_user_tarif.rename(columns={'id':'sms_count',('user_id',''):'user_id',('month',''):'month',('sum','duration'):'duration_sum',('count','duration'):'calls_count'},inplace=True)"
   ]
  },
  {
   "cell_type": "code",
   "execution_count": 21,
   "metadata": {},
   "outputs": [],
   "source": [
    "cal_mes_inet_user_tarif.dropna(subset = ['user_id','month'], inplace = True)\n",
    "cal_mes_inet_user_tarif = cal_mes_inet_user_tarif.fillna(0) # заполним пропуска в mb_esed duration_sum sms_count нулями"
   ]
  },
  {
   "cell_type": "code",
   "execution_count": 22,
   "metadata": {},
   "outputs": [
    {
     "data": {
      "text/html": [
       "<div>\n",
       "<style scoped>\n",
       "    .dataframe tbody tr th:only-of-type {\n",
       "        vertical-align: middle;\n",
       "    }\n",
       "\n",
       "    .dataframe tbody tr th {\n",
       "        vertical-align: top;\n",
       "    }\n",
       "\n",
       "    .dataframe thead th {\n",
       "        text-align: right;\n",
       "    }\n",
       "</style>\n",
       "<table border=\"1\" class=\"dataframe\">\n",
       "  <thead>\n",
       "    <tr style=\"text-align: right;\">\n",
       "      <th></th>\n",
       "      <th>user_id</th>\n",
       "      <th>month</th>\n",
       "      <th>duration_sum</th>\n",
       "      <th>calls_count</th>\n",
       "      <th>sms_count</th>\n",
       "      <th>mb_used</th>\n",
       "      <th>tariff_name</th>\n",
       "      <th>messages_included</th>\n",
       "      <th>mb_per_month_included</th>\n",
       "      <th>minutes_included</th>\n",
       "      <th>rub_monthly_fee</th>\n",
       "      <th>rub_per_gb</th>\n",
       "      <th>rub_per_message</th>\n",
       "      <th>rub_per_minute</th>\n",
       "    </tr>\n",
       "  </thead>\n",
       "  <tbody>\n",
       "    <tr>\n",
       "      <td>0</td>\n",
       "      <td>1000</td>\n",
       "      <td>5.0</td>\n",
       "      <td>159.0</td>\n",
       "      <td>17.0</td>\n",
       "      <td>22.0</td>\n",
       "      <td>2256.0</td>\n",
       "      <td>ultra</td>\n",
       "      <td>1000</td>\n",
       "      <td>30720</td>\n",
       "      <td>3000</td>\n",
       "      <td>1950</td>\n",
       "      <td>150</td>\n",
       "      <td>1</td>\n",
       "      <td>1</td>\n",
       "    </tr>\n",
       "    <tr>\n",
       "      <td>1</td>\n",
       "      <td>1000</td>\n",
       "      <td>6.0</td>\n",
       "      <td>172.0</td>\n",
       "      <td>28.0</td>\n",
       "      <td>60.0</td>\n",
       "      <td>23257.0</td>\n",
       "      <td>ultra</td>\n",
       "      <td>1000</td>\n",
       "      <td>30720</td>\n",
       "      <td>3000</td>\n",
       "      <td>1950</td>\n",
       "      <td>150</td>\n",
       "      <td>1</td>\n",
       "      <td>1</td>\n",
       "    </tr>\n",
       "    <tr>\n",
       "      <td>2</td>\n",
       "      <td>1000</td>\n",
       "      <td>7.0</td>\n",
       "      <td>340.0</td>\n",
       "      <td>41.0</td>\n",
       "      <td>75.0</td>\n",
       "      <td>14016.0</td>\n",
       "      <td>ultra</td>\n",
       "      <td>1000</td>\n",
       "      <td>30720</td>\n",
       "      <td>3000</td>\n",
       "      <td>1950</td>\n",
       "      <td>150</td>\n",
       "      <td>1</td>\n",
       "      <td>1</td>\n",
       "    </tr>\n",
       "    <tr>\n",
       "      <td>3</td>\n",
       "      <td>1000</td>\n",
       "      <td>8.0</td>\n",
       "      <td>408.0</td>\n",
       "      <td>42.0</td>\n",
       "      <td>81.0</td>\n",
       "      <td>14070.0</td>\n",
       "      <td>ultra</td>\n",
       "      <td>1000</td>\n",
       "      <td>30720</td>\n",
       "      <td>3000</td>\n",
       "      <td>1950</td>\n",
       "      <td>150</td>\n",
       "      <td>1</td>\n",
       "      <td>1</td>\n",
       "    </tr>\n",
       "    <tr>\n",
       "      <td>4</td>\n",
       "      <td>1000</td>\n",
       "      <td>9.0</td>\n",
       "      <td>466.0</td>\n",
       "      <td>46.0</td>\n",
       "      <td>57.0</td>\n",
       "      <td>14581.0</td>\n",
       "      <td>ultra</td>\n",
       "      <td>1000</td>\n",
       "      <td>30720</td>\n",
       "      <td>3000</td>\n",
       "      <td>1950</td>\n",
       "      <td>150</td>\n",
       "      <td>1</td>\n",
       "      <td>1</td>\n",
       "    </tr>\n",
       "    <tr>\n",
       "      <td>...</td>\n",
       "      <td>...</td>\n",
       "      <td>...</td>\n",
       "      <td>...</td>\n",
       "      <td>...</td>\n",
       "      <td>...</td>\n",
       "      <td>...</td>\n",
       "      <td>...</td>\n",
       "      <td>...</td>\n",
       "      <td>...</td>\n",
       "      <td>...</td>\n",
       "      <td>...</td>\n",
       "      <td>...</td>\n",
       "      <td>...</td>\n",
       "      <td>...</td>\n",
       "    </tr>\n",
       "    <tr>\n",
       "      <td>3204</td>\n",
       "      <td>1498</td>\n",
       "      <td>10.0</td>\n",
       "      <td>247.0</td>\n",
       "      <td>30.0</td>\n",
       "      <td>42.0</td>\n",
       "      <td>20604.0</td>\n",
       "      <td>smart</td>\n",
       "      <td>50</td>\n",
       "      <td>15360</td>\n",
       "      <td>500</td>\n",
       "      <td>550</td>\n",
       "      <td>200</td>\n",
       "      <td>3</td>\n",
       "      <td>3</td>\n",
       "    </tr>\n",
       "    <tr>\n",
       "      <td>3205</td>\n",
       "      <td>1499</td>\n",
       "      <td>9.0</td>\n",
       "      <td>70.0</td>\n",
       "      <td>8.0</td>\n",
       "      <td>11.0</td>\n",
       "      <td>1848.0</td>\n",
       "      <td>smart</td>\n",
       "      <td>50</td>\n",
       "      <td>15360</td>\n",
       "      <td>500</td>\n",
       "      <td>550</td>\n",
       "      <td>200</td>\n",
       "      <td>3</td>\n",
       "      <td>3</td>\n",
       "    </tr>\n",
       "    <tr>\n",
       "      <td>3206</td>\n",
       "      <td>1499</td>\n",
       "      <td>10.0</td>\n",
       "      <td>449.0</td>\n",
       "      <td>44.0</td>\n",
       "      <td>48.0</td>\n",
       "      <td>17809.0</td>\n",
       "      <td>smart</td>\n",
       "      <td>50</td>\n",
       "      <td>15360</td>\n",
       "      <td>500</td>\n",
       "      <td>550</td>\n",
       "      <td>200</td>\n",
       "      <td>3</td>\n",
       "      <td>3</td>\n",
       "    </tr>\n",
       "    <tr>\n",
       "      <td>3207</td>\n",
       "      <td>1499</td>\n",
       "      <td>11.0</td>\n",
       "      <td>612.0</td>\n",
       "      <td>62.0</td>\n",
       "      <td>59.0</td>\n",
       "      <td>17984.0</td>\n",
       "      <td>smart</td>\n",
       "      <td>50</td>\n",
       "      <td>15360</td>\n",
       "      <td>500</td>\n",
       "      <td>550</td>\n",
       "      <td>200</td>\n",
       "      <td>3</td>\n",
       "      <td>3</td>\n",
       "    </tr>\n",
       "    <tr>\n",
       "      <td>3208</td>\n",
       "      <td>1499</td>\n",
       "      <td>12.0</td>\n",
       "      <td>492.0</td>\n",
       "      <td>56.0</td>\n",
       "      <td>66.0</td>\n",
       "      <td>13077.0</td>\n",
       "      <td>smart</td>\n",
       "      <td>50</td>\n",
       "      <td>15360</td>\n",
       "      <td>500</td>\n",
       "      <td>550</td>\n",
       "      <td>200</td>\n",
       "      <td>3</td>\n",
       "      <td>3</td>\n",
       "    </tr>\n",
       "  </tbody>\n",
       "</table>\n",
       "<p>3168 rows × 14 columns</p>\n",
       "</div>"
      ],
      "text/plain": [
       "     user_id  month  duration_sum  calls_count  sms_count  mb_used  \\\n",
       "0       1000    5.0         159.0         17.0       22.0   2256.0   \n",
       "1       1000    6.0         172.0         28.0       60.0  23257.0   \n",
       "2       1000    7.0         340.0         41.0       75.0  14016.0   \n",
       "3       1000    8.0         408.0         42.0       81.0  14070.0   \n",
       "4       1000    9.0         466.0         46.0       57.0  14581.0   \n",
       "...      ...    ...           ...          ...        ...      ...   \n",
       "3204    1498   10.0         247.0         30.0       42.0  20604.0   \n",
       "3205    1499    9.0          70.0          8.0       11.0   1848.0   \n",
       "3206    1499   10.0         449.0         44.0       48.0  17809.0   \n",
       "3207    1499   11.0         612.0         62.0       59.0  17984.0   \n",
       "3208    1499   12.0         492.0         56.0       66.0  13077.0   \n",
       "\n",
       "     tariff_name  messages_included  mb_per_month_included  minutes_included  \\\n",
       "0          ultra               1000                  30720              3000   \n",
       "1          ultra               1000                  30720              3000   \n",
       "2          ultra               1000                  30720              3000   \n",
       "3          ultra               1000                  30720              3000   \n",
       "4          ultra               1000                  30720              3000   \n",
       "...          ...                ...                    ...               ...   \n",
       "3204       smart                 50                  15360               500   \n",
       "3205       smart                 50                  15360               500   \n",
       "3206       smart                 50                  15360               500   \n",
       "3207       smart                 50                  15360               500   \n",
       "3208       smart                 50                  15360               500   \n",
       "\n",
       "      rub_monthly_fee  rub_per_gb  rub_per_message  rub_per_minute  \n",
       "0                1950         150                1               1  \n",
       "1                1950         150                1               1  \n",
       "2                1950         150                1               1  \n",
       "3                1950         150                1               1  \n",
       "4                1950         150                1               1  \n",
       "...               ...         ...              ...             ...  \n",
       "3204              550         200                3               3  \n",
       "3205              550         200                3               3  \n",
       "3206              550         200                3               3  \n",
       "3207              550         200                3               3  \n",
       "3208              550         200                3               3  \n",
       "\n",
       "[3168 rows x 14 columns]"
      ]
     },
     "execution_count": 22,
     "metadata": {},
     "output_type": "execute_result"
    }
   ],
   "source": [
    "cal_mes_inet_user_tarif"
   ]
  },
  {
   "cell_type": "markdown",
   "metadata": {},
   "source": [
    "<a id='session2.3.2'></a>\n",
    "##### Помесячная выручка с каждого пользователя"
   ]
  },
  {
   "cell_type": "code",
   "execution_count": 23,
   "metadata": {},
   "outputs": [],
   "source": [
    "# Создали таблицу с требуемыми для расчета данными\n",
    "data_result = cal_mes_inet_user_tarif[['user_id','month','tariff_name','rub_monthly_fee','duration_sum','minutes_included','rub_per_minute'\\\n",
    "                                       ,'mb_used','mb_per_month_included','rub_per_gb'\\\n",
    "                                       ,'sms_count','messages_included','rub_per_message']]\n",
    "# Вычислим, сколько потратил абонент из пакета услуг\n",
    "data_result['minutes_paid'] = (data_result['duration_sum']-data_result['minutes_included'])*data_result['rub_per_minute']\n",
    "data_result['sms_paid'] = (data_result['sms_count']-data_result['messages_included'])*data_result['rub_per_message']\n",
    "data_result['gb_paid'] = (data_result['mb_used']-data_result['mb_per_month_included'])*data_result['rub_per_gb']\n",
    "\n"
   ]
  },
  {
   "cell_type": "code",
   "execution_count": 24,
   "metadata": {},
   "outputs": [],
   "source": [
    "# Обнуляем отрицательные значения, чтобы не получилось 'переплаты'\n",
    "data_result.loc[data_result['minutes_paid'] < 0, 'minutes_paid'] = 0\n",
    "data_result.loc[data_result['sms_paid'] < 0, 'sms_paid'] = 0\n",
    "data_result.loc[data_result['gb_paid'] < 0, 'gb_paid'] = 0"
   ]
  },
  {
   "cell_type": "code",
   "execution_count": 25,
   "metadata": {},
   "outputs": [
    {
     "name": "stdout",
     "output_type": "stream",
     "text": [
      "     user_id  month tariff_name  rub_monthly_fee  duration_sum  \\\n",
      "0       1000    5.0       ultra             1950         159.0   \n",
      "1       1000    6.0       ultra             1950         172.0   \n",
      "2       1000    7.0       ultra             1950         340.0   \n",
      "3       1000    8.0       ultra             1950         408.0   \n",
      "4       1000    9.0       ultra             1950         466.0   \n",
      "...      ...    ...         ...              ...           ...   \n",
      "3204    1498   10.0       smart              550         247.0   \n",
      "3205    1499    9.0       smart              550          70.0   \n",
      "3206    1499   10.0       smart              550         449.0   \n",
      "3207    1499   11.0       smart              550         612.0   \n",
      "3208    1499   12.0       smart              550         492.0   \n",
      "\n",
      "      minutes_included  rub_per_minute  mb_used  mb_per_month_included  \\\n",
      "0                 3000               1   2256.0                  30720   \n",
      "1                 3000               1  23257.0                  30720   \n",
      "2                 3000               1  14016.0                  30720   \n",
      "3                 3000               1  14070.0                  30720   \n",
      "4                 3000               1  14581.0                  30720   \n",
      "...                ...             ...      ...                    ...   \n",
      "3204               500               3  20604.0                  15360   \n",
      "3205               500               3   1848.0                  15360   \n",
      "3206               500               3  17809.0                  15360   \n",
      "3207               500               3  17984.0                  15360   \n",
      "3208               500               3  13077.0                  15360   \n",
      "\n",
      "      rub_per_gb  sms_count  messages_included  rub_per_message  minutes_paid  \\\n",
      "0            150       22.0               1000                1           0.0   \n",
      "1            150       60.0               1000                1           0.0   \n",
      "2            150       75.0               1000                1           0.0   \n",
      "3            150       81.0               1000                1           0.0   \n",
      "4            150       57.0               1000                1           0.0   \n",
      "...          ...        ...                ...              ...           ...   \n",
      "3204         200       42.0                 50                3           0.0   \n",
      "3205         200       11.0                 50                3           0.0   \n",
      "3206         200       48.0                 50                3           0.0   \n",
      "3207         200       59.0                 50                3         336.0   \n",
      "3208         200       66.0                 50                3           0.0   \n",
      "\n",
      "      sms_paid    gb_paid      revenue  \n",
      "0          0.0        0.0       1950.0  \n",
      "1          0.0        0.0       1950.0  \n",
      "2          0.0        0.0       1950.0  \n",
      "3          0.0        0.0       1950.0  \n",
      "4          0.0        0.0       1950.0  \n",
      "...        ...        ...          ...  \n",
      "3204       0.0  1048800.0  209760550.0  \n",
      "3205       0.0        0.0        550.0  \n",
      "3206       0.0   489800.0   97960550.0  \n",
      "3207      27.0   524800.0  104961639.0  \n",
      "3208      48.0        0.0        694.0  \n",
      "\n",
      "[3168 rows x 17 columns]\n"
     ]
    }
   ],
   "source": [
    "# Считаем доход с клиента в месяц\n",
    "data_result['revenue'] = (data_result['minutes_paid'] * data_result['rub_per_minute'] +\n",
    "                   data_result['gb_paid']  * data_result['rub_per_gb'] +\n",
    "                   data_result['sms_paid'] * data_result['rub_per_message'] + data_result['rub_monthly_fee'])\n",
    "print(data_result)"
   ]
  },
  {
   "cell_type": "markdown",
   "metadata": {},
   "source": [
    "<a id = 'session3'></a>\n",
    "#### Анализ данных"
   ]
  },
  {
   "cell_type": "code",
   "execution_count": 26,
   "metadata": {},
   "outputs": [],
   "source": [
    "# Сделаем срез по тарифу\n",
    "tariff_ultra = data_result.query('tariff_name == \"ultra\"')\n",
    "tariff_smart = data_result.query('tariff_name == \"smart\"')"
   ]
  },
  {
   "cell_type": "markdown",
   "metadata": {},
   "source": [
    "##### Опишем длительность разговора по тарифам"
   ]
  },
  {
   "cell_type": "code",
   "execution_count": 27,
   "metadata": {},
   "outputs": [
    {
     "name": "stdout",
     "output_type": "stream",
     "text": [
      "count     947.000000\n",
      "mean      547.755016\n",
      "std       305.513385\n",
      "min         1.000000\n",
      "25%       311.000000\n",
      "50%       529.000000\n",
      "75%       758.000000\n",
      "max      1673.000000\n",
      "Name: duration_sum, dtype: float64\n",
      "Дисперсия тарифа ultra: 93338.42829141095\n",
      "\n",
      "count    2221.000000\n",
      "mean      419.440342\n",
      "std       188.992403\n",
      "min         2.000000\n",
      "25%       285.000000\n",
      "50%       423.000000\n",
      "75%       546.000000\n",
      "max      1435.000000\n",
      "Name: duration_sum, dtype: float64\n",
      "Дисперсия тарифа smart: 35718.128533936906\n"
     ]
    }
   ],
   "source": [
    "print(tariff_ultra['duration_sum'].describe())\n",
    "print('Дисперсия тарифа ultra:',np.var(tariff_ultra['duration_sum'], ddof=1))\n",
    "print()\n",
    "print(tariff_smart['duration_sum'].describe())\n",
    "print('Дисперсия тарифа smart:',np.var(tariff_smart['duration_sum'], ddof=1))"
   ]
  },
  {
   "cell_type": "markdown",
   "metadata": {},
   "source": [
    "##### Вавод\n",
    "Полльзователи тарифа ultra разговаривают на 32% дольше, но и отклонеение сильнее на 65%."
   ]
  },
  {
   "cell_type": "markdown",
   "metadata": {},
   "source": [
    "##### Опишем количество используемого трафика"
   ]
  },
  {
   "cell_type": "code",
   "execution_count": 28,
   "metadata": {},
   "outputs": [
    {
     "name": "stdout",
     "output_type": "stream",
     "text": [
      "count      947.000000\n",
      "mean     19489.672650\n",
      "std      10137.035902\n",
      "min          0.000000\n",
      "25%      11633.500000\n",
      "50%      19335.000000\n",
      "75%      26867.000000\n",
      "max      49789.000000\n",
      "Name: mb_used, dtype: float64\n",
      "Дисперсия тарифа ultra: 102759496.8758157\n",
      "\n",
      "count     2221.000000\n",
      "mean     16231.462404\n",
      "std       5883.447131\n",
      "min          0.000000\n",
      "25%      12672.000000\n",
      "50%      16527.000000\n",
      "75%      20068.000000\n",
      "max      38610.000000\n",
      "Name: mb_used, dtype: float64\n",
      "Дисперсия тарифа smart: 34614950.145094946\n"
     ]
    }
   ],
   "source": [
    "print(tariff_ultra['mb_used'].describe())\n",
    "print('Дисперсия тарифа ultra:',np.var(tariff_ultra['mb_used'], ddof=1))\n",
    "print()\n",
    "print(tariff_smart['mb_used'].describe())\n",
    "print('Дисперсия тарифа smart:',np.var(tariff_smart['mb_used'], ddof=1))"
   ]
  },
  {
   "cell_type": "markdown",
   "metadata": {},
   "source": [
    "##### Вывод\n",
    "Пользователи тарифа ultra тратят на 20% больше трафика, отклонение больше на 66%."
   ]
  },
  {
   "cell_type": "markdown",
   "metadata": {},
   "source": [
    "##### Опишем количество отправленных сообщений"
   ]
  },
  {
   "cell_type": "code",
   "execution_count": 29,
   "metadata": {},
   "outputs": [
    {
     "name": "stdout",
     "output_type": "stream",
     "text": [
      "count    947.000000\n",
      "mean      48.759240\n",
      "std       46.601785\n",
      "min        0.000000\n",
      "25%        5.000000\n",
      "50%       39.000000\n",
      "75%       78.500000\n",
      "max      224.000000\n",
      "Name: sms_count, dtype: float64\n",
      "Дисперсия тарифа ultra: 2171.7263283853986\n",
      "\n",
      "count    2221.000000\n",
      "mean       33.392166\n",
      "std        28.270233\n",
      "min         0.000000\n",
      "25%        10.000000\n",
      "50%        28.000000\n",
      "75%        51.000000\n",
      "max       143.000000\n",
      "Name: sms_count, dtype: float64\n",
      "Дисперсия тарифа smart: 799.2060467040657\n"
     ]
    }
   ],
   "source": [
    "print(tariff_ultra['sms_count'].describe())\n",
    "print('Дисперсия тарифа ultra:',np.var(tariff_ultra['sms_count'], ddof=1))\n",
    "print()\n",
    "print(tariff_smart['sms_count'].describe())\n",
    "print('Дисперсия тарифа smart:',np.var(tariff_smart['sms_count'], ddof=1))"
   ]
  },
  {
   "cell_type": "markdown",
   "metadata": {},
   "source": [
    "##### Вывод\n",
    "Пользоватлеи тарифа ultra отправляют на 58% больше сообщений, отклонение больше на 66%"
   ]
  },
  {
   "cell_type": "code",
   "execution_count": 30,
   "metadata": {},
   "outputs": [
    {
     "name": "stdout",
     "output_type": "stream",
     "text": [
      "count    9.470000e+02\n",
      "mean     1.719625e+07\n",
      "std      5.531878e+07\n",
      "min      1.950000e+03\n",
      "25%      1.950000e+03\n",
      "50%      1.950000e+03\n",
      "75%      1.950000e+03\n",
      "max      4.290544e+08\n",
      "Name: revenue, dtype: float64\n",
      "Дисперсия тарифа ultra: 3060167875904102.0\n",
      "\n",
      "count    2.221000e+03\n",
      "mean     1.109490e+08\n",
      "std      1.443544e+08\n",
      "min      5.500000e+02\n",
      "25%      5.500000e+02\n",
      "50%      4.668075e+07\n",
      "75%      1.883212e+08\n",
      "max      9.300054e+08\n",
      "Name: revenue, dtype: float64\n",
      "Дисперсия тарифа smart: 2.083818438355919e+16\n"
     ]
    }
   ],
   "source": [
    "print(tariff_ultra['revenue'].describe())\n",
    "print('Дисперсия тарифа ultra:',np.var(tariff_ultra['revenue'], ddof=1))\n",
    "print()\n",
    "print(tariff_smart['revenue'].describe())\n",
    "print('Дисперсия тарифа smart:',np.var(tariff_smart['revenue'], ddof=1))"
   ]
  },
  {
   "cell_type": "markdown",
   "metadata": {},
   "source": [
    "##### Построим гистограммы"
   ]
  },
  {
   "cell_type": "code",
   "execution_count": 31,
   "metadata": {},
   "outputs": [
    {
     "data": {
      "image/png": "[encoded data removed]",
      "text/plain": [
       "<Figure size 576x288 with 1 Axes>"
      ]
     },
     "metadata": {
      "needs_background": "light"
     },
     "output_type": "display_data"
    },
    {
     "data": {
      "image/png": "[encoded data removed]",
      "text/plain": [
       "<Figure size 576x288 with 1 Axes>"
      ]
     },
     "metadata": {
      "needs_background": "light"
     },
     "output_type": "display_data"
    },
    {
     "data": {
      "image/png": "[encoded data removed]",
      "text/plain": [
       "<Figure size 576x288 with 1 Axes>"
      ]
     },
     "metadata": {
      "needs_background": "light"
     },
     "output_type": "display_data"
    },
    {
     "data": {
      "image/png": "[encoded data removed]",
      "text/plain": [
       "<Figure size 576x288 with 1 Axes>"
      ]
     },
     "metadata": {
      "needs_background": "light"
     },
     "output_type": "display_data"
    }
   ],
   "source": [
    "table_title = {'duration_sum':'Распределение длительности разговоров','mb_used':'Расперделение затраченного трафика','sms_count':'Распределение СМС','revenue':'Распределение дохода'}\n",
    "table_name = {'duration_sum':'Количество затраченных минут в месяц','mb_used':'Количестов затраченных Мб в месяц','sms_count':'Количество СМС в месяц','revenue':'доход в рублях/мес.'}\n",
    "for i in table_title:\n",
    "    q1 = tariff_smart[i].quantile(0.05)                 \n",
    "    q3 = tariff_smart[i].quantile(0.95)\n",
    "    q1 = tariff_ultra[i].quantile(0.05)                 \n",
    "    q3 = tariff_ultra[i].quantile(0.95)\n",
    "    tariff_smart[i].plot(kind = 'hist', bins = 10, range = (q1,q3),grid=True, figsize = (8,4))\n",
    "    tariff_ultra[i].plot(kind = 'hist', bins = 10, range = (q1,q3),grid=True, figsize = (8,4), alpha = 0.5)\n",
    "    plt.ylabel('Частота данных')\n",
    "    plt.xlabel(table_name[i])\n",
    "    plt.title(table_title[i])\n",
    "    plt.legend(['tariff_smart','tariff_ultra'])\n",
    "    plt.show()"
   ]
  },
  {
   "cell_type": "markdown",
   "metadata": {},
   "source": [
    "#### Вывод\n",
    "Многие пользвоатели тарифа **ultra** переоценивают свои потребности в сязи, используют мощный тариф не на полную  \n",
    "Пользователи тарифа **smart** наоборот часто выходят за замки лимитов по минутам и трафику"
   ]
  },
  {
   "cell_type": "markdown",
   "metadata": {},
   "source": [
    "<a id='session4'></a>\n",
    "#### Проверка гипотез"
   ]
  },
  {
   "cell_type": "markdown",
   "metadata": {},
   "source": [
    "<a id = 'session4.1'></a>\n",
    "##### Cредняя выручка пользователей тарифов «Ультра» и «Смарт» различается"
   ]
  },
  {
   "cell_type": "code",
   "execution_count": 32,
   "metadata": {},
   "outputs": [
    {
     "name": "stdout",
     "output_type": "stream",
     "text": [
      "p-value =  7.444927225314416e-139\n",
      "Отвергаем нулевую гипотезу\n"
     ]
    }
   ],
   "source": [
    "alpha = 0.05\n",
    "result = st.ttest_ind(tariff_smart['revenue'],tariff_ultra['revenue'], equal_var = False)\n",
    "print('p-value = ',result.pvalue)\n",
    "if (result.pvalue < alpha):\n",
    "    print(\"Отвергаем нулевую гипотезу\")\n",
    "else:\n",
    "    print(\"Не получилось отвергнуть нулевую гипотезу\")"
   ]
  },
  {
   "cell_type": "markdown",
   "metadata": {},
   "source": [
    "#### Вывод\n",
    "Да, средняя выручка тарифов отличается"
   ]
  },
  {
   "cell_type": "markdown",
   "metadata": {},
   "source": [
    "<a id='session4.2'></a>\n",
    "#### Cредняя выручка пользователей из Москвы отличается от выручки пользователей из других регионов"
   ]
  },
  {
   "cell_type": "code",
   "execution_count": 33,
   "metadata": {},
   "outputs": [],
   "source": [
    "data_result_city = data_result.merge(users_data, on ='user_id')"
   ]
  },
  {
   "cell_type": "code",
   "execution_count": 34,
   "metadata": {},
   "outputs": [
    {
     "name": "stdout",
     "output_type": "stream",
     "text": [
      "Средняя выручка пользователей из Москвы:71584803.24\n",
      "Средняя выручка пользователей из других городов:85627807.56\n"
     ]
    }
   ],
   "source": [
    "print('Средняя выручка пользователей из Москвы:{:.2f}'.format(data_result_city.loc[data_result_city['city']=='Москва']['revenue'].mean()))\n",
    "print('Средняя выручка пользователей из других городов:{:.2f}'.format(data_result_city.loc[data_result_city['city']!='Москва']['revenue'].mean()))"
   ]
  },
  {
   "cell_type": "code",
   "execution_count": 35,
   "metadata": {},
   "outputs": [],
   "source": [
    "city_mos= data_result_city.query('city==\"Москва\"')\n",
    "city_others = data_result_city.query('city != \"Москва\"')"
   ]
  },
  {
   "cell_type": "code",
   "execution_count": 36,
   "metadata": {},
   "outputs": [
    {
     "name": "stdout",
     "output_type": "stream",
     "text": [
      "Дисперсия дохода с Москвы: 1.4009560843425576e+16\n",
      "Дисперсия дохода с городов: 1.8131514354518204e+16\n"
     ]
    }
   ],
   "source": [
    "print('Дисперсия дохода с Москвы:',np.var(city_mos['revenue'], ddof=1))\n",
    "print('Дисперсия дохода с городов:',np.var(city_others['revenue'], ddof=1))"
   ]
  },
  {
   "cell_type": "code",
   "execution_count": 37,
   "metadata": {},
   "outputs": [
    {
     "name": "stdout",
     "output_type": "stream",
     "text": [
      "p-value =  0.010563229921489937\n",
      "Отвергаем нулевую гипотезу\n"
     ]
    }
   ],
   "source": [
    "alpha = 0.05\n",
    "result = st.ttest_ind(city_mos['revenue'],city_others['revenue'], equal_var = False)\n",
    "print('p-value = ',result.pvalue)\n",
    "if (result.pvalue < alpha):\n",
    "    print(\"Отвергаем нулевую гипотезу\")\n",
    "else:\n",
    "    print(\"Не получилось отвергнуть нулевую гипотезу\")"
   ]
  },
  {
   "cell_type": "markdown",
   "metadata": {},
   "source": [
    "#### Вывод\n",
    "Да, средняя выручка пользователей из Москвы и других горов отличается"
   ]
  },
  {
   "cell_type": "markdown",
   "metadata": {},
   "source": [
    "<a id='session4.3'></a>\n",
    "#### Формулировка нулевой и альтернативной гипотез\n",
    "Нулевую гипотезу формулировали по принципу:\"Средняя выборок не равна (в пределах статистической значимости)\"  \n",
    "Альтернативную гипотезу формулировали по принципу:\"Средняя выборок отличается более (значение меньше уровня статистической значимости)\""
   ]
  },
  {
   "cell_type": "markdown",
   "metadata": {},
   "source": [
    "<a id='session4.4'></a>\n",
    "#### Выбор критерия проверки гипотез\n",
    "Был выбран критерий **ttest_ind**, потому что мы сравнивали 2 незавысимые выборки"
   ]
  },
  {
   "cell_type": "markdown",
   "metadata": {},
   "source": [
    "<a id='session5'></a>\n",
    "### Общий вывод\n"
   ]
  },
  {
   "cell_type": "markdown",
   "metadata": {},
   "source": [
    "1. Тариф **smart** продвигать выгоднее, он приносит больше дохода.  \n",
    "Причина в том, что пользователи часто выходят за установленные лимиты, но не переходят на более мощный тариф. Из-за чего переплачивают за дополнительные услуги по предоставлению трафика, минут и СМС  \n",
    "2. Жители Москвы лучше подбирают себе тариф по сравнению с дргуими регионми, они меньше переплачивают за доп. услуги. В следствии чего, средний доход с них меньше."
   ]
  },
  {
   "cell_type": "code",
   "execution_count": null,
   "metadata": {},
   "outputs": [],
   "source": []
  }
 ],
 "metadata": {
  "kernelspec": {
   "display_name": "Python 3",
   "language": "python",
   "name": "python3"
  },
  "language_info": {
   "codemirror_mode": {
    "name": "ipython",
    "version": 3
   },
   "file_extension": ".py",
   "mimetype": "text/x-python",
   "name": "python",
   "nbconvert_exporter": "python",
   "pygments_lexer": "ipython3",
   "version": "3.8.3"
  }
 },
 "nbformat": 4,
 "nbformat_minor": 2
}
