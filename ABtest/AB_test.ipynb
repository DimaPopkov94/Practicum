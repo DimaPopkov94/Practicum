{
 "cells": [
  {
   "cell_type": "markdown",
   "metadata": {},
   "source": [
    "# Проект по А/B-тестированию"
   ]
  },
  {
   "cell_type": "markdown",
   "metadata": {},
   "source": [
    "## Цель проекта\n",
    "Провести оценку результатов A/B-теста"
   ]
  },
  {
   "cell_type": "markdown",
   "metadata": {},
   "source": [
    "## Входные данные\n",
    "1. Техническое задание\n",
    "2. Таблицы с данными:  \n",
    "ab_project_marketing_events.csv  \n",
    "final_ab_new_users.csv  \n",
    "final_ab_events.csv  \n",
    "final_ab_participants.csv"
   ]
  },
  {
   "cell_type": "markdown",
   "metadata": {},
   "source": [
    "## Содержание\n",
    "<h3>Шаг 1.<a href='#session1'>Исследование данных</a></h3>\n",
    "<h4>Шаг 1.1<a href='#session1.1'>Преобразование типов</a></h4>\n",
    "<h4>Шаг 1.2<a href='#session1.2'>Работа с пропусками и дубликатами</a></h4>\n",
    "<h3>Шаг 2.<a href='#session2'>Исследовательский анализ данных</a></h3>\n",
    "<h4>Шаг 2.1<a href='#session2.1'>Конверсия в воронке на разных этапах</a></h4>\n",
    "<h4>Шаг 2.2<a href='#session2.2'>Обладают ли выборки одинаковыми распределениями количества событий на пользователя</a></h4>\n",
    "<h4>Шаг 2.3<a href='#session2.3'>Присутствуют ли в выборках одни и те же пользователи</a></h4>\n",
    "<h4>Шаг 2.4<a href='#session2.4'>Как число событий распределено по дням</a></h4>\n",
    "<h4>Шаг 2.5<a href='#session2.5'>Нюансы данных, которые нужно учесть</a></h4>\n",
    "<h3>Шаг 3.<a href='#session3'>Оценка результатов A/B-тестирования</a></h3>\n",
    "<h4>Шаг 3.1<a href='#session3.1'>Что можно сказать про результаты A/B-тестирования</a></h4>\n",
    "<h4>Шаг 3.2<a href='#session3.2'>Проверка статистической разници долей z-критерием</a></h4>\n",
    "<h3>Шаг 4.<a href='#session4'>Вывод</a></h3>\n"
   ]
  },
  {
   "cell_type": "code",
   "execution_count": 1,
   "metadata": {},
   "outputs": [],
   "source": [
    "import pandas as pd\n",
    "import numpy as np\n",
    "import matplotlib.pyplot as plt\n",
    "import seaborn as sns\n",
    "import scipy.stats as stats\n",
    "import math as mth\n",
    "import warnings\n",
    "warnings.filterwarnings(\"ignore\")"
   ]
  },
  {
   "cell_type": "markdown",
   "metadata": {},
   "source": [
    "<a id='session1'></a>\n",
    "### Исследование данных"
   ]
  },
  {
   "cell_type": "code",
   "execution_count": 2,
   "metadata": {},
   "outputs": [],
   "source": [
    "marketing_events = pd.read_csv('/datasets/ab_project_marketing_events.csv')\n",
    "users = pd.read_csv('/datasets/final_ab_new_users.csv')\n",
    "events = pd.read_csv('/datasets/final_ab_events.csv')\n",
    "participants = pd.read_csv('/datasets/final_ab_participants.csv')"
   ]
  },
  {
   "cell_type": "code",
   "execution_count": 3,
   "metadata": {},
   "outputs": [
    {
     "name": "stdout",
     "output_type": "stream",
     "text": [
      "<class 'pandas.core.frame.DataFrame'>\n",
      "RangeIndex: 14 entries, 0 to 13\n",
      "Data columns (total 4 columns):\n",
      "name         14 non-null object\n",
      "regions      14 non-null object\n",
      "start_dt     14 non-null object\n",
      "finish_dt    14 non-null object\n",
      "dtypes: object(4)\n",
      "memory usage: 576.0+ bytes\n"
     ]
    }
   ],
   "source": [
    "marketing_events.info()"
   ]
  },
  {
   "cell_type": "code",
   "execution_count": 4,
   "metadata": {},
   "outputs": [
    {
     "name": "stdout",
     "output_type": "stream",
     "text": [
      "<class 'pandas.core.frame.DataFrame'>\n",
      "RangeIndex: 61733 entries, 0 to 61732\n",
      "Data columns (total 4 columns):\n",
      "user_id       61733 non-null object\n",
      "first_date    61733 non-null object\n",
      "region        61733 non-null object\n",
      "device        61733 non-null object\n",
      "dtypes: object(4)\n",
      "memory usage: 1.9+ MB\n"
     ]
    }
   ],
   "source": [
    "users.info()"
   ]
  },
  {
   "cell_type": "code",
   "execution_count": 5,
   "metadata": {},
   "outputs": [
    {
     "name": "stdout",
     "output_type": "stream",
     "text": [
      "<class 'pandas.core.frame.DataFrame'>\n",
      "RangeIndex: 440317 entries, 0 to 440316\n",
      "Data columns (total 4 columns):\n",
      "user_id       440317 non-null object\n",
      "event_dt      440317 non-null object\n",
      "event_name    440317 non-null object\n",
      "details       62740 non-null float64\n",
      "dtypes: float64(1), object(3)\n",
      "memory usage: 13.4+ MB\n"
     ]
    }
   ],
   "source": [
    "events.info()"
   ]
  },
  {
   "cell_type": "code",
   "execution_count": 6,
   "metadata": {},
   "outputs": [
    {
     "name": "stdout",
     "output_type": "stream",
     "text": [
      "<class 'pandas.core.frame.DataFrame'>\n",
      "RangeIndex: 18268 entries, 0 to 18267\n",
      "Data columns (total 3 columns):\n",
      "user_id    18268 non-null object\n",
      "group      18268 non-null object\n",
      "ab_test    18268 non-null object\n",
      "dtypes: object(3)\n",
      "memory usage: 428.3+ KB\n"
     ]
    }
   ],
   "source": [
    "participants.info()"
   ]
  },
  {
   "cell_type": "markdown",
   "metadata": {},
   "source": [
    "<a id='session1.1'></a>\n",
    "#### Преоразование типов"
   ]
  },
  {
   "cell_type": "code",
   "execution_count": 7,
   "metadata": {},
   "outputs": [],
   "source": [
    "marketing_events['start_dt'] = pd.to_datetime(marketing_events['start_dt'])\n",
    "marketing_events['finish_dt'] = pd.to_datetime(marketing_events['finish_dt'])"
   ]
  },
  {
   "cell_type": "code",
   "execution_count": 8,
   "metadata": {},
   "outputs": [],
   "source": [
    "users['first_date'] = pd.to_datetime(users['first_date'])"
   ]
  },
  {
   "cell_type": "code",
   "execution_count": 9,
   "metadata": {},
   "outputs": [],
   "source": [
    "events['event_dt'] = pd.to_datetime(events['event_dt'])"
   ]
  },
  {
   "cell_type": "markdown",
   "metadata": {},
   "source": [
    "#### Вывод\n",
    "Преобразовали в дату нужные поля"
   ]
  },
  {
   "cell_type": "markdown",
   "metadata": {},
   "source": [
    "<a id='session1.2'></a>\n",
    "#### Работа с пропусками и дубликатами"
   ]
  },
  {
   "cell_type": "code",
   "execution_count": 10,
   "metadata": {},
   "outputs": [
    {
     "name": "stdout",
     "output_type": "stream",
     "text": [
      "Дубликатов в таблтце marketing_events 0\n",
      "Дубликатов в таблтце participants 0\n",
      "Дубликатов в таблтце events 0\n",
      "Дубликатов в таблтце users 0\n"
     ]
    }
   ],
   "source": [
    "print(f'Дубликатов в таблтце marketing_events {marketing_events.duplicated().sum()}')\n",
    "print(f'Дубликатов в таблтце participants {participants.duplicated().sum()}')\n",
    "print(f'Дубликатов в таблтце events {events.duplicated().sum()}')\n",
    "print(f'Дубликатов в таблтце users {users.duplicated().sum()}')"
   ]
  },
  {
   "cell_type": "markdown",
   "metadata": {},
   "source": [
    "#### Вывод\n",
    "Полных дублей нет.  \n",
    "Пропуски в столбце **details** таблицы **events** обоснованы тем, что в этом столбце указана стоимость покупки, но покупка (**purchase**)\n",
    "это только однин тип событый, для других стоимости быть не может"
   ]
  },
  {
   "cell_type": "markdown",
   "metadata": {},
   "source": [
    "<a id='session2'></a>\n",
    "### Исследовательский анализ данных"
   ]
  },
  {
   "cell_type": "markdown",
   "metadata": {},
   "source": [
    "<a id='session2.1'></a>\n",
    "#### Конверсия в воронке на разных этапах"
   ]
  },
  {
   "cell_type": "code",
   "execution_count": 11,
   "metadata": {},
   "outputs": [],
   "source": [
    "# Посчитаем количество уникальных пользователей\n",
    "users_count = events.groupby('event_name').agg({'user_id': 'nunique'}).reset_index().sort_values(by='user_id',ascending=False)"
   ]
  },
  {
   "cell_type": "code",
   "execution_count": 12,
   "metadata": {},
   "outputs": [],
   "source": [
    "# Считаем конферсию\n",
    "users_count['lag'] = users_count['user_id'].shift(1)\n",
    "users_count['conversion'] = round(users_count['user_id']/users_count['lag'],2)"
   ]
  },
  {
   "cell_type": "code",
   "execution_count": 13,
   "metadata": {},
   "outputs": [
    {
     "data": {
      "text/html": [
       "<style  type=\"text/css\" >\n",
       "</style><table id=\"T_ba09562a_5f3d_11eb_942e_02420a39f4d1\" ><thead>    <tr>        <th class=\"blank level0\" ></th>        <th class=\"col_heading level0 col0\" >event_name</th>        <th class=\"col_heading level0 col1\" >user_id</th>        <th class=\"col_heading level0 col2\" >lag</th>        <th class=\"col_heading level0 col3\" >conversion</th>    </tr></thead><tbody>\n",
       "                <tr>\n",
       "                        <th id=\"T_ba09562a_5f3d_11eb_942e_02420a39f4d1level0_row0\" class=\"row_heading level0 row0\" >0</th>\n",
       "                        <td id=\"T_ba09562a_5f3d_11eb_942e_02420a39f4d1row0_col0\" class=\"data row0 col0\" >login</td>\n",
       "                        <td id=\"T_ba09562a_5f3d_11eb_942e_02420a39f4d1row0_col1\" class=\"data row0 col1\" >58697</td>\n",
       "                        <td id=\"T_ba09562a_5f3d_11eb_942e_02420a39f4d1row0_col2\" class=\"data row0 col2\" >nan</td>\n",
       "                        <td id=\"T_ba09562a_5f3d_11eb_942e_02420a39f4d1row0_col3\" class=\"data row0 col3\" >nan%</td>\n",
       "            </tr>\n",
       "            <tr>\n",
       "                        <th id=\"T_ba09562a_5f3d_11eb_942e_02420a39f4d1level0_row1\" class=\"row_heading level0 row1\" >2</th>\n",
       "                        <td id=\"T_ba09562a_5f3d_11eb_942e_02420a39f4d1row1_col0\" class=\"data row1 col0\" >product_page</td>\n",
       "                        <td id=\"T_ba09562a_5f3d_11eb_942e_02420a39f4d1row1_col1\" class=\"data row1 col1\" >38929</td>\n",
       "                        <td id=\"T_ba09562a_5f3d_11eb_942e_02420a39f4d1row1_col2\" class=\"data row1 col2\" >58697</td>\n",
       "                        <td id=\"T_ba09562a_5f3d_11eb_942e_02420a39f4d1row1_col3\" class=\"data row1 col3\" >66%</td>\n",
       "            </tr>\n",
       "            <tr>\n",
       "                        <th id=\"T_ba09562a_5f3d_11eb_942e_02420a39f4d1level0_row2\" class=\"row_heading level0 row2\" >3</th>\n",
       "                        <td id=\"T_ba09562a_5f3d_11eb_942e_02420a39f4d1row2_col0\" class=\"data row2 col0\" >purchase</td>\n",
       "                        <td id=\"T_ba09562a_5f3d_11eb_942e_02420a39f4d1row2_col1\" class=\"data row2 col1\" >19569</td>\n",
       "                        <td id=\"T_ba09562a_5f3d_11eb_942e_02420a39f4d1row2_col2\" class=\"data row2 col2\" >38929</td>\n",
       "                        <td id=\"T_ba09562a_5f3d_11eb_942e_02420a39f4d1row2_col3\" class=\"data row2 col3\" >50%</td>\n",
       "            </tr>\n",
       "            <tr>\n",
       "                        <th id=\"T_ba09562a_5f3d_11eb_942e_02420a39f4d1level0_row3\" class=\"row_heading level0 row3\" >1</th>\n",
       "                        <td id=\"T_ba09562a_5f3d_11eb_942e_02420a39f4d1row3_col0\" class=\"data row3 col0\" >product_cart</td>\n",
       "                        <td id=\"T_ba09562a_5f3d_11eb_942e_02420a39f4d1row3_col1\" class=\"data row3 col1\" >19284</td>\n",
       "                        <td id=\"T_ba09562a_5f3d_11eb_942e_02420a39f4d1row3_col2\" class=\"data row3 col2\" >19569</td>\n",
       "                        <td id=\"T_ba09562a_5f3d_11eb_942e_02420a39f4d1row3_col3\" class=\"data row3 col3\" >99%</td>\n",
       "            </tr>\n",
       "    </tbody></table>"
      ],
      "text/plain": [
       "<pandas.io.formats.style.Styler at 0x7f6bef80fcd0>"
      ]
     },
     "execution_count": 13,
     "metadata": {},
     "output_type": "execute_result"
    }
   ],
   "source": [
    "users_count.style.format({'conversion':'{:.0%}'})"
   ]
  },
  {
   "cell_type": "markdown",
   "metadata": {},
   "source": [
    "#### Вывод\n",
    "Конверсия 66% на шаге **product_page** означает, что каждый 3-ий пользователь не заходит на страницу с товаром, это странно, возмжно\n",
    "эти пользвоатели заходят с однотипных устройств (например смартфоны) и на них едет верстка..."
   ]
  },
  {
   "cell_type": "markdown",
   "metadata": {},
   "source": [
    "<a id='session2.2'></a>\n",
    "#### Обладают ли выборки одинаковыми распределениями количества событий на пользователя"
   ]
  },
  {
   "cell_type": "code",
   "execution_count": 14,
   "metadata": {},
   "outputs": [],
   "source": [
    "# Сделаем срез для теста recommender_system_test\n",
    "participants_recomend_syst = participants[participants['ab_test']=='recommender_system_test']"
   ]
  },
  {
   "cell_type": "code",
   "execution_count": 15,
   "metadata": {},
   "outputs": [],
   "source": [
    "# Соединим нужные таблицы\n",
    "events_participants = events.merge(participants_recomend_syst, on='user_id')"
   ]
  },
  {
   "cell_type": "code",
   "execution_count": 16,
   "metadata": {},
   "outputs": [],
   "source": [
    "# Выделим две отдельные таблицы для тестовых групп\n",
    "events_participants_a = events_participants[events_participants['group']=='A']\n",
    "events_participants_b = events_participants[events_participants['group']=='B']"
   ]
  },
  {
   "cell_type": "code",
   "execution_count": 17,
   "metadata": {},
   "outputs": [],
   "source": [
    "# Распределение событий на пользователя для группы А\n",
    "a_group_mean_events = events_participants_a.groupby('user_id')['event_name'].count().reset_index()\n",
    "# Распределение событий на пользователя для группы В\n",
    "b_group_mean_events = events_participants_b.groupby('user_id')['event_name'].count().reset_index()"
   ]
  },
  {
   "cell_type": "code",
   "execution_count": 18,
   "metadata": {},
   "outputs": [
    {
     "data": {
      "image/png": "[encoded data removed]",
      "text/plain": [
       "<Figure size 1152x432 with 1 Axes>"
      ]
     },
     "metadata": {
      "needs_background": "light"
     },
     "output_type": "display_data"
    }
   ],
   "source": [
    "plt.figure(figsize=(16,6))\n",
    "sns.distplot(a_group_mean_events['event_name'],kde=False)\n",
    "sns.distplot(b_group_mean_events['event_name'],kde=False)\n",
    "plt.legend(['A','B'])\n",
    "plt.xlabel('Количество событий',fontsize=15)\n",
    "plt.ylabel('Количество пользователей',fontsize=15)\n",
    "plt.title('Распределение количества событий по пользователям',fontsize=20)\n",
    "plt.show()"
   ]
  },
  {
   "cell_type": "markdown",
   "metadata": {},
   "source": [
    "#### Вывод\n",
    "Распределение событий на пользвоателя для теста **recommender_system_test** схожи для А и В.  \n",
    "В контрольной группе больше самих пользователей"
   ]
  },
  {
   "cell_type": "markdown",
   "metadata": {},
   "source": [
    "<a id='session2.3'></a>\n",
    "#### Присутствуют ли в выборках одни и те же пользователи"
   ]
  },
  {
   "cell_type": "code",
   "execution_count": 19,
   "metadata": {},
   "outputs": [],
   "source": [
    "participants_a = participants_recomend_syst[participants_recomend_syst['group']=='A']\n",
    "participants_b = participants_recomend_syst[participants_recomend_syst['group']=='B']"
   ]
  },
  {
   "cell_type": "code",
   "execution_count": 20,
   "metadata": {},
   "outputs": [
    {
     "data": {
      "text/html": [
       "<div>\n",
       "<style scoped>\n",
       "    .dataframe tbody tr th:only-of-type {\n",
       "        vertical-align: middle;\n",
       "    }\n",
       "\n",
       "    .dataframe tbody tr th {\n",
       "        vertical-align: top;\n",
       "    }\n",
       "\n",
       "    .dataframe thead th {\n",
       "        text-align: right;\n",
       "    }\n",
       "</style>\n",
       "<table border=\"1\" class=\"dataframe\">\n",
       "  <thead>\n",
       "    <tr style=\"text-align: right;\">\n",
       "      <th></th>\n",
       "      <th>user_id</th>\n",
       "      <th>group_x</th>\n",
       "      <th>ab_test_x</th>\n",
       "      <th>group_y</th>\n",
       "      <th>ab_test_y</th>\n",
       "    </tr>\n",
       "  </thead>\n",
       "  <tbody>\n",
       "  </tbody>\n",
       "</table>\n",
       "</div>"
      ],
      "text/plain": [
       "Empty DataFrame\n",
       "Columns: [user_id, group_x, ab_test_x, group_y, ab_test_y]\n",
       "Index: []"
      ]
     },
     "execution_count": 20,
     "metadata": {},
     "output_type": "execute_result"
    }
   ],
   "source": [
    "inner_participants = participants_a.merge(participants_b, on='user_id')\n",
    "inner_participants"
   ]
  },
  {
   "cell_type": "markdown",
   "metadata": {},
   "source": [
    "#### Вывод\n",
    "В выборках нет одних и тех же пользователи"
   ]
  },
  {
   "cell_type": "code",
   "execution_count": 21,
   "metadata": {},
   "outputs": [],
   "source": [
    "rs_test = participants[participants['ab_test']=='recommender_system_test']\n",
    "eu_test = participants[participants['ab_test']=='interface_eu_test']\n",
    "\n",
    "all_test = rs_test.merge(eu_test,on='user_id')\n",
    "all_test_B = all_test[all_test['group_y']=='B']"
   ]
  },
  {
   "cell_type": "code",
   "execution_count": 22,
   "metadata": {},
   "outputs": [
    {
     "name": "stdout",
     "output_type": "stream",
     "text": [
      "Сколько пользвоателей побывало в двух тестах - 1602\n"
     ]
    }
   ],
   "source": [
    "print('Сколько пользвоателей побывало в двух тестах -', all_test['user_id'].nunique())"
   ]
  },
  {
   "cell_type": "markdown",
   "metadata": {},
   "source": [
    "<a id='session2.4'></a>\n",
    "#### Как число событий распределено по дням"
   ]
  },
  {
   "cell_type": "code",
   "execution_count": 23,
   "metadata": {},
   "outputs": [],
   "source": [
    "events_participants_rs = events.merge(participants_recomend_syst, on='user_id')\n",
    "# Уберем тех, кто участвовал в тесте interface_eu_test в группе В\n",
    "events_participants_rs = events_participants_rs.query('user_id not in @all_test_B.user_id')"
   ]
  },
  {
   "cell_type": "code",
   "execution_count": 24,
   "metadata": {},
   "outputs": [],
   "source": [
    "A = events_participants_rs[events_participants_rs['group']=='A']\n",
    "B = events_participants_rs[events_participants_rs['group']=='B']\n"
   ]
  },
  {
   "cell_type": "code",
   "execution_count": 25,
   "metadata": {},
   "outputs": [
    {
     "data": {
      "image/png": "[encoded data removed]",
      "text/plain": [
       "<Figure size 1152x504 with 1 Axes>"
      ]
     },
     "metadata": {
      "needs_background": "light"
     },
     "output_type": "display_data"
    }
   ],
   "source": [
    "plt.figure(figsize=(16,7))\n",
    "A['event_dt'].hist()\n",
    "B['event_dt'].hist()\n",
    "plt.legend(['A','B'])\n",
    "plt.xlabel('Дата')\n",
    "plt.ylabel('Количество событий')\n",
    "plt.title('Распределение количества событий по датам');"
   ]
  },
  {
   "cell_type": "markdown",
   "metadata": {},
   "source": [
    "#### Вывод\n",
    "В середине теста было наибольшее количество событий, это из-за приближения праздников НГ, все покупают подарки"
   ]
  },
  {
   "cell_type": "markdown",
   "metadata": {},
   "source": [
    "<a id='session2.5'></a>\n",
    "#### Нюансы данных, которые нужно учесть"
   ]
  },
  {
   "cell_type": "code",
   "execution_count": 26,
   "metadata": {},
   "outputs": [
    {
     "data": {
      "text/plain": [
       "Timestamp('2020-12-30 12:42:57')"
      ]
     },
     "execution_count": 26,
     "metadata": {},
     "output_type": "execute_result"
    }
   ],
   "source": [
    "# Когда произошло последнее событие теста\n",
    "events_participants_rs['event_dt'].max()"
   ]
  },
  {
   "cell_type": "code",
   "execution_count": 27,
   "metadata": {},
   "outputs": [
    {
     "data": {
      "text/plain": [
       "Timestamp('2020-12-23 00:00:00')"
      ]
     },
     "execution_count": 27,
     "metadata": {},
     "output_type": "execute_result"
    }
   ],
   "source": [
    "# Когда была остановка набора пользователей для теста.\n",
    "users['first_date'].max()"
   ]
  },
  {
   "cell_type": "code",
   "execution_count": 28,
   "metadata": {},
   "outputs": [],
   "source": [
    "# Сколько всего пользвоателей из UE\n",
    "eu_users = users[users['region']=='EU']['user_id'].nunique()"
   ]
  },
  {
   "cell_type": "code",
   "execution_count": 29,
   "metadata": {},
   "outputs": [],
   "source": [
    "event_par_users = events_participants_rs.merge(users,on='user_id',how='left')\n",
    "# Сколько пользователей из EU участвует в тесте\n",
    "eu_users_test = event_par_users[event_par_users['region']=='EU']['user_id'].nunique()"
   ]
  },
  {
   "cell_type": "code",
   "execution_count": 30,
   "metadata": {},
   "outputs": [
    {
     "name": "stdout",
     "output_type": "stream",
     "text": [
      "Доля новых пользвоателей EU, участвовавших в тесте 6.59%\n"
     ]
    }
   ],
   "source": [
    "print('Доля новых пользвоателей EU, участвовавших в тесте {:.2%}'.format(eu_users_test/eu_users))"
   ]
  },
  {
   "cell_type": "markdown",
   "metadata": {},
   "source": [
    "#### Вывод\n",
    "Нужно учесть:\n",
    "1. Наличие выбросов в данных (количество сбытий у пользователей)\n",
    "2. Программа для разделения трафика работает корректно (поровну делит выборки). У нас деление неравномерное.\n",
    "3. Корректно ли система аналитики собирает данные (проверка через АА тест)\n",
    "4. Полследнее событие теста recommender_system_test произошло 2020-12-30, скорее вего это дата остановки, ведь вероятность того, что ни одного события после этой даты не произошло ничтожно мала. По ТЗ тест должен быть остановлен 2021-01-04.\n",
    "5. Остановка набора пользователей была 2020-12-23, по ТЗ 2020-12-21\n",
    "6. 7.52% новых пользователей из EU, по ТЗ 15%"
   ]
  },
  {
   "cell_type": "markdown",
   "metadata": {},
   "source": [
    "<a id='session3'></a>\n",
    "### Оценка результатов A/B-тестирования"
   ]
  },
  {
   "cell_type": "markdown",
   "metadata": {},
   "source": [
    "<a id='session3.1'></a>\n",
    "#### Что можно сказать про результаты A/B-тестирования"
   ]
  },
  {
   "cell_type": "code",
   "execution_count": 31,
   "metadata": {},
   "outputs": [],
   "source": [
    "# Найдем кол-во просмотров карточек товаров каждого пользователя группы А\n",
    "product_page_A = events_participants_rs[(events_participants_rs['group']=='A')&\\\n",
    "                                        (events_participants_rs['event_name']=='product_page')].groupby('user_id', as_index=False).\\\n",
    "agg({'event_name' :'count'})\n",
    "# Найдем кол-во просмотров карточек товаров каждого пользователя группы В\n",
    "product_page_B = events_participants_rs[(events_participants_rs['group']=='B')&\\\n",
    "                                        (events_participants_rs['event_name']=='product_page')].groupby('user_id', as_index=False).\\\n",
    "agg({'event_name' :'count'})\n",
    "\n",
    "\n",
    "# Найдем кол-во просмотров корзины каждого пользователя группы А\n",
    "product_cart_A = events_participants_rs[(events_participants_rs['group']=='A')&\\\n",
    "                                        (events_participants_rs['event_name']=='product_cart')].groupby('user_id', as_index=False).\\\n",
    "agg({'event_name' :'count'})\n",
    "# Найдем кол-во просмотров корзины каждого пользователя группы В\n",
    "product_cart_B = events_participants_rs[(events_participants_rs['group']=='B')&\\\n",
    "                                        (events_participants_rs['event_name']=='product_cart')].groupby('user_id', as_index=False).\\\n",
    "agg({'event_name' :'count'})\n",
    "\n",
    "\n",
    "# Найдем кол-во покупок каждого пользователя группы А\n",
    "purchase_A = events_participants_rs[(events_participants_rs['group']=='A')&\\\n",
    "                                        (events_participants_rs['event_name']=='purchase')].groupby('user_id', as_index=False).\\\n",
    "agg({'event_name' :'count'})\n",
    "# Найдем кол-во покупок каждого пользователя группы В\n",
    "purchase_B = events_participants_rs[(events_participants_rs['group']=='B')&\\\n",
    "                                        (events_participants_rs['event_name']=='purchase')].groupby('user_id', as_index=False).\\\n",
    "agg({'event_name' :'count'})\n"
   ]
  },
  {
   "cell_type": "code",
   "execution_count": 32,
   "metadata": {},
   "outputs": [],
   "source": [
    "# Найдем количестов залогинившихся пользвоателей в группах\n",
    "login_A = events_participants_rs[events_participants_rs['group']=='A']['user_id'].count()\n",
    "login_B = events_participants_rs[events_participants_rs['group']=='B']['user_id'].count()"
   ]
  },
  {
   "cell_type": "code",
   "execution_count": 33,
   "metadata": {},
   "outputs": [],
   "source": [
    "prod_page_A_conversion = product_page_A['event_name'].sum() / login_A \n",
    "prod_page_B_conversion = product_page_B['event_name'].sum() / login_B\n",
    "\n",
    "prod_cart_A_conversion = product_cart_A['event_name'].sum() / login_A\n",
    "prod_cart_B_conversion = product_cart_B['event_name'].sum() / login_B \n",
    "\n",
    "purchase_A_conversion = purchase_A['event_name'].sum() / login_A\n",
    "purchase_B_conversion = purchase_B['event_name'].sum() / login_B "
   ]
  },
  {
   "cell_type": "code",
   "execution_count": 34,
   "metadata": {},
   "outputs": [
    {
     "name": "stdout",
     "output_type": "stream",
     "text": [
      "Относительная конверсия В к А на шаге product_page -9.69%\n",
      "Относительная конверсия В к А на шаге product_cart -3.69%\n",
      "Относительная конверсия В к А на шаге purchase -10.16%\n"
     ]
    }
   ],
   "source": [
    "print('Относительная конверсия В к А на шаге product_page {0:.2%}'.format(prod_page_B_conversion / prod_page_A_conversion-1))\n",
    "print('Относительная конверсия В к А на шаге product_cart {0:.2%}'.format(prod_cart_B_conversion / prod_cart_A_conversion-1))\n",
    "print('Относительная конверсия В к А на шаге purchase {0:.2%}'.format(purchase_B_conversion / purchase_A_conversion-1))"
   ]
  },
  {
   "cell_type": "code",
   "execution_count": 35,
   "metadata": {},
   "outputs": [
    {
     "name": "stdout",
     "output_type": "stream",
     "text": [
      "Конверсия шагов группы А:\n",
      "Конверсия просмотра карточек продуктов 0.2859641961630416\n",
      "Конверсия просмотра корзины 0.13318560849029099\n",
      "Конверсия покупки 0.13755904134351857\n",
      "\n",
      "Конверсия шагов группы В:\n",
      "Конверсия просмотра карточек продуктов 0.25825697847858514\n",
      "Конверсия просмотра корзины 0.128276155976987\n",
      "Конверсия покупки 0.12358832303430642\n"
     ]
    }
   ],
   "source": [
    "print('Конверсия шагов группы А:')\n",
    "print('Конверсия просмотра карточек продуктов', product_page_A['event_name'].sum()/login_A )\n",
    "print('Конверсия просмотра корзины', product_cart_A['event_name'].sum() / login_A )\n",
    "print('Конверсия покупки' , purchase_A['event_name'].sum() / login_A)\n",
    "print('')\n",
    "print('Конверсия шагов группы В:')\n",
    "print('Конверсия просмотра карточек продуктов', product_page_B['event_name'].sum() / login_B)\n",
    "print('Конверсия просмотра корзины', product_cart_B['event_name'].sum() / login_B)\n",
    "print('Конверсия покупки', purchase_B['event_name'].sum() / login_B)"
   ]
  },
  {
   "cell_type": "code",
   "execution_count": 36,
   "metadata": {},
   "outputs": [
    {
     "name": "stdout",
     "output_type": "stream",
     "text": [
      "Стат. значимость на шаге карточки товара 0.000000000000000929743778499055\n",
      "Стат. значимость на шаге корзины 0.000000058874423762577781053665\n",
      "Стат. значимость на шаг епокупки 0.000000028893387083622126977112\n"
     ]
    }
   ],
   "source": [
    "# Првоерка статистической разницы выборок\n",
    "print(\"Стат. значимость на шаге карточки товара {0:.30f}\".format(stats.mannwhitneyu(product_page_A['event_name'], product_page_B['event_name'])[1]))\n",
    "print(\"Стат. значимость на шаге корзины {0:.30f}\".format(stats.mannwhitneyu(product_cart_A['event_name'], product_cart_B['event_name'])[1]))\n",
    "print(\"Стат. значимость на шаг епокупки {0:.30f}\".format(stats.mannwhitneyu(purchase_A['event_name'], purchase_B['event_name'])[1]))"
   ]
  },
  {
   "cell_type": "markdown",
   "metadata": {},
   "source": [
    "#### H0 гепотиза - между выборками НЕТ статистически значимая разница\n",
    "#### Н1 гепотиза - между выборками ЕСТЬ статистически значимая разница"
   ]
  },
  {
   "cell_type": "markdown",
   "metadata": {},
   "source": [
    "#### Вывод\n",
    "Пользователи из выборки **В** показали худшую конверсию воронки на всех шагах, разница статистически значима. Мы отвергаем нулевую гепотезу.  \n",
    "Результаты отрицательные, но многие требования ТЗ не выполнены, поэтому результаты нельзя назвать достоверными"
   ]
  },
  {
   "cell_type": "markdown",
   "metadata": {},
   "source": [
    "<a id='session3.2'></a>\n",
    "#### Проверка статистической разници долей z-критерием"
   ]
  },
  {
   "cell_type": "code",
   "execution_count": 37,
   "metadata": {},
   "outputs": [
    {
     "name": "stdout",
     "output_type": "stream",
     "text": [
      "2422\n",
      "822\n"
     ]
    }
   ],
   "source": [
    "# Найдем количество пользователей в каждой группе\n",
    "print(events_participants_rs[events_participants_rs['group']=='A']['user_id'].nunique())\n",
    "print(events_participants_rs[events_participants_rs['group']=='B']['user_id'].nunique())"
   ]
  },
  {
   "cell_type": "code",
   "execution_count": 38,
   "metadata": {},
   "outputs": [
    {
     "name": "stdout",
     "output_type": "stream",
     "text": [
      "773\n",
      "226\n"
     ]
    }
   ],
   "source": [
    "# Найдем количество событий purchase по группам\n",
    "print(events_participants_rs[(events_participants_rs['group']=='A')&(events_participants_rs['event_name']=='purchase')]['user_id'].nunique())\n",
    "print(events_participants_rs[(events_participants_rs['group']=='B')&(events_participants_rs['event_name']=='purchase')]['user_id'].nunique())"
   ]
  },
  {
   "cell_type": "code",
   "execution_count": 39,
   "metadata": {},
   "outputs": [
    {
     "name": "stdout",
     "output_type": "stream",
     "text": [
      "728\n",
      "225\n"
     ]
    }
   ],
   "source": [
    "# Найдем количество событий product_cart по группам\n",
    "print(events_participants_rs[(events_participants_rs['group']=='A')&(events_participants_rs['event_name']=='product_cart')]['user_id'].nunique())\n",
    "print(events_participants_rs[(events_participants_rs['group']=='B')&(events_participants_rs['event_name']=='product_cart')]['user_id'].nunique())"
   ]
  },
  {
   "cell_type": "code",
   "execution_count": 40,
   "metadata": {},
   "outputs": [
    {
     "name": "stdout",
     "output_type": "stream",
     "text": [
      "1571\n",
      "459\n"
     ]
    }
   ],
   "source": [
    "# Найдем количество событий product_page по группам\n",
    "print(events_participants_rs[(events_participants_rs['group']=='A')&(events_participants_rs['event_name']=='product_page')]['user_id'].nunique())\n",
    "print(events_participants_rs[(events_participants_rs['group']=='B')&(events_participants_rs['event_name']=='product_page')]['user_id'].nunique())"
   ]
  },
  {
   "cell_type": "code",
   "execution_count": 41,
   "metadata": {},
   "outputs": [],
   "source": [
    "count_users = np.array([2422,822])\n",
    "list_count_events_A = [773,728,1571]\n",
    "list_count_events_B = [226,225,459]\n",
    "name_stage = ['purchase','product_count','product_page']"
   ]
  },
  {
   "cell_type": "code",
   "execution_count": 44,
   "metadata": {},
   "outputs": [
    {
     "name": "stdout",
     "output_type": "stream",
     "text": [
      "Для шага purchase\n",
      "p-значение:  0.01764968717521609\n",
      "Не получилось отвергнуть нулевую гипотезу, нет оснований считать доли разными\n",
      "Для шага product_count\n",
      "p-значение:  0.14412076974264498\n",
      "Не получилось отвергнуть нулевую гипотезу, нет оснований считать доли разными\n",
      "Для шага product_page\n",
      "p-значение:  3.8415005565450855e-06\n",
      "Отвергаем нулевую гипотезу: между долями есть значимая разница\n"
     ]
    }
   ],
   "source": [
    "for i,j,k in zip(range(len(list_count_events_A)),range(len(list_count_events_B)),name_stage):\n",
    "    p1 = list_count_events_A[i]/count_users[0]\n",
    "    p2 = list_count_events_B[j]/count_users[1]\n",
    "\n",
    "    p_combined = (list_count_events_A[i]+list_count_events_B[j]) / (count_users[0]+count_users[1])\n",
    "    difference = p1-p2\n",
    "    \n",
    "    z_value = difference / mth.sqrt(p_combined * (1 - p_combined) * (1/count_users[0] + 1/count_users[1]))\n",
    "    distr = stats.norm(0, 1)\n",
    "    \n",
    "    alpha = 0.05/3 # 3 - число сравнений, считаем поправку Бонферрони\n",
    "    p_value = (1 - distr.cdf(abs(z_value))) * 2\n",
    "    print('Для шага', k)\n",
    "    print('p-значение: ', p_value)\n",
    "\n",
    "    if (p_value < alpha):\n",
    "        print(\"Отвергаем нулевую гипотезу: между долями есть значимая разница\")\n",
    "    else:\n",
    "        print(\"Не получилось отвергнуть нулевую гипотезу, нет оснований считать доли разными\") "
   ]
  },
  {
   "cell_type": "markdown",
   "metadata": {},
   "source": [
    "#### Вывод\n",
    "Разница долей статистически значима для шагов **purchase и product_page**, а для шага **product_cart** нет"
   ]
  },
  {
   "cell_type": "markdown",
   "metadata": {},
   "source": [
    "<a id='session4'></a>\n",
    "### Вывод"
   ]
  },
  {
   "cell_type": "markdown",
   "metadata": {},
   "source": [
    "1. Активность пользователей сильно возрастает за 2 недели до НГ\n",
    "2. При сборе данных не были учтены все требования ТЗ:\n",
    "    - Доля пользвоателей EU менее 15%  \n",
    "    - Набор новых пользвателей закончен на 2 дня позже  \n",
    "    - Тест остановлен на 5 дней позже\n",
    "3. Разбиение на группы **А В** прошло не равно \n",
    "4. Хоть группа **В** показала худшую конверсию и результат статистически значим, тест нельзя считать удачным из-за неудовлетворения многих требований ТЗ "
   ]
  },
  {
   "cell_type": "code",
   "execution_count": null,
   "metadata": {},
   "outputs": [],
   "source": []
  }
 ],
 "metadata": {
  "kernelspec": {
   "display_name": "Python 3",
   "language": "python",
   "name": "python3"
  },
  "language_info": {
   "codemirror_mode": {
    "name": "ipython",
    "version": 3
   },
   "file_extension": ".py",
   "mimetype": "text/x-python",
   "name": "python",
   "nbconvert_exporter": "python",
   "pygments_lexer": "ipython3",
   "version": "3.8.3"
  },
  "toc": {
   "base_numbering": 1,
   "nav_menu": {},
   "number_sections": true,
   "sideBar": true,
   "skip_h1_title": true,
   "title_cell": "Table of Contents",
   "title_sidebar": "Contents",
   "toc_cell": false,
   "toc_position": {},
   "toc_section_display": true,
   "toc_window_display": false
  }
 },
 "nbformat": 4,
 "nbformat_minor": 2
}
